{
 "cells": [
  {
   "cell_type": "code",
   "execution_count": 1,
   "metadata": {},
   "outputs": [],
   "source": [
    "# 3. biến và kiểu dữ liệu\n",
    "# 3.1 Biến:\n",
    "\n",
    "# - Biến là vùng chứa để lưu trữ dữ liệu phục vụ bài toán\n",
    "# - trong python các bạn không cần phải khai báo biến cũng như không cần chỉ rõ kiểu dữ liệu của biến đó, biến sẽ tự tạo và xác định kiểu tự động (dynamic typing) khi bạn gán giá trị cho nó.\n",
    "# - để biết một kiểu dữ liệu của biến các bạn có thể sử dụng hàm type(). "
   ]
  },
  {
   "cell_type": "code",
   "execution_count": 3,
   "metadata": {},
   "outputs": [
    {
     "name": "stdout",
     "output_type": "stream",
     "text": [
      "<class 'int'>\n",
      "<class 'str'>\n",
      "<class 'float'>\n"
     ]
    }
   ],
   "source": [
    "# ví dụ\n",
    "a = 100 # int\n",
    "b = \"28tech\" # str\n",
    "c = 30.42 # float\n",
    "print(type(a))\n",
    "print(type(b))\n",
    "print(type(c))"
   ]
  },
  {
   "cell_type": "code",
   "execution_count": 4,
   "metadata": {},
   "outputs": [],
   "source": [
    "# * chú ý cách sử dụng biến\n",
    "# - không được đặt tên biến chứa dấu cách, kí tự đặc biệt, bắt đầu bằng chữ số.\n",
    "# - tên biến trong python phân biệt chữ hoa chữ thường (case sensitive)"
   ]
  },
  {
   "cell_type": "code",
   "execution_count": 5,
   "metadata": {},
   "outputs": [
    {
     "name": "stdout",
     "output_type": "stream",
     "text": [
      "10 100\n",
      "120 321\n"
     ]
    }
   ],
   "source": [
    "# vd\n",
    "a = 10\n",
    "A = 100\n",
    "print(a,A)\n",
    "dientich = 120\n",
    "dienTich = 321\n",
    "print(dientich,dienTich)"
   ]
  },
  {
   "cell_type": "code",
   "execution_count": 6,
   "metadata": {},
   "outputs": [],
   "source": [
    "# 3.2 kiểu dữ liệu\n",
    "\n",
    "# - kiểu dữ liệu số: Trong python có 3 kiểu dữ liệu số: số nguyên (integer), số thực dấu phẩy động (Floating point numbers) và số phức (complex numbers)"
   ]
  },
  {
   "cell_type": "code",
   "execution_count": 7,
   "metadata": {},
   "outputs": [
    {
     "name": "stdout",
     "output_type": "stream",
     "text": [
      "kiểu dữ liệu của a:  <class 'int'>\n",
      "kiểu dữ liệu của b:  <class 'float'>\n",
      "kiểu dữ liệu của c:  <class 'complex'>\n"
     ]
    }
   ],
   "source": [
    "a = 50\n",
    "b = 50.0\n",
    "c = 100 - 50j\n",
    "print(\"kiểu dữ liệu của a: \",type(a))\n",
    "print(\"kiểu dữ liệu của b: \",type(b))\n",
    "print(\"kiểu dữ liệu của c: \",type(c))"
   ]
  },
  {
   "cell_type": "code",
   "execution_count": 8,
   "metadata": {},
   "outputs": [
    {
     "data": {
      "text/plain": [
       "\"\\ntiền tố(prefix)  | ý nghĩa(interpretation)  | cơ số(Base)\\n'0b' hoặc 0B     | hệ nhị phân (Binary)     |     2\\n'0o' hoặc 0O     | hệ bát phân (octal)      |     8\\n'0x' hoặc 0X     | hệ 16 (hexadecimal)      |     16\\n\""
      ]
     },
     "execution_count": 8,
     "metadata": {},
     "output_type": "execute_result"
    }
   ],
   "source": [
    "# a)số nguyên:\n",
    "# - đối với số nguyên thì trong python không giới hạn về giá trị mà số nguyên có thể lưu, bạn có thể xử lý số nguyên lớn với python.\n",
    "# - trong python thì các số nguyên thường được in ra dưới dạng cơ số 10 nhưng bạn có thể in ra ở hệ 2,8,16\n",
    "\n",
    "\"\"\"\n",
    "tiền tố(prefix)  | ý nghĩa(interpretation)  | cơ số(Base)\n",
    "'0b' hoặc 0B     | hệ nhị phân (Binary)     |     2\n",
    "'0o' hoặc 0O     | hệ bát phân (octal)      |     8\n",
    "'0x' hoặc 0X     | hệ 16 (hexadecimal)      |     16\n",
    "\"\"\""
   ]
  },
  {
   "cell_type": "code",
   "execution_count": 9,
   "metadata": {},
   "outputs": [
    {
     "name": "stdout",
     "output_type": "stream",
     "text": [
      "13\n",
      "83\n",
      "554\n"
     ]
    }
   ],
   "source": [
    "# ví dụ\n",
    "a = 0b1101\n",
    "print(a)\n",
    "b = 0o123\n",
    "print(b)\n",
    "c = 0x22a\n",
    "print(c)"
   ]
  },
  {
   "cell_type": "code",
   "execution_count": null,
   "metadata": {},
   "outputs": [],
   "source": [
    "# b) số thực: \n",
    "# - số thực là số âm, dương kèm theo phần thập phân\n",
    "# - trong python giá trị số thực có thể lưu xấp xỉ 1.8*10^308, các giá trị lớn hơn giá trị này được mô tả bởi chuỗi inf (infinity).giá trị số thực nhỏ nhất có thể lưu là 5.0*10^-324, các giá trị nhỏ hơn số này được coi là 0"
   ]
  },
  {
   "cell_type": "code",
   "execution_count": 2,
   "metadata": {},
   "outputs": [
    {
     "name": "stdout",
     "output_type": "stream",
     "text": [
      "3.5\n",
      "300000.0\n",
      "inf\n",
      "0.0\n"
     ]
    }
   ],
   "source": [
    "a = 3.5 \n",
    "print(a)\n",
    "b = 3e5 \n",
    "print(b)\n",
    "d = 1.9e308 \n",
    "print(d)\n",
    "e = 5.4e-325\n",
    "print(e)"
   ]
  },
  {
   "cell_type": "code",
   "execution_count": 3,
   "metadata": {},
   "outputs": [],
   "source": [
    "# in số thực với số lượng chữ số sau dấu phẩy xác định"
   ]
  },
  {
   "cell_type": "code",
   "execution_count": 5,
   "metadata": {},
   "outputs": [
    {
     "name": "stdout",
     "output_type": "stream",
     "text": [
      "35.24\n",
      "35.24\n",
      "35.24\n"
     ]
    }
   ],
   "source": [
    "a = 35.23842394\n",
    "print('%.2f'%a)\n",
    "print(\"{:.2f}\".format(a))\n",
    "print(round(a,2))"
   ]
  },
  {
   "cell_type": "code",
   "execution_count": 6,
   "metadata": {},
   "outputs": [],
   "source": [
    "# c) số phức\n",
    "# số gồm phần thực (real part) và phần ảo (imaginary part) đi kèm j.\n",
    "# bạn có thể trích xuất phần thực, phần ảo của số phức x bằng x.real và x.imag.\n"
   ]
  },
  {
   "cell_type": "code",
   "execution_count": 8,
   "metadata": {},
   "outputs": [
    {
     "name": "stdout",
     "output_type": "stream",
     "text": [
      "3.0\n",
      "5.0\n"
     ]
    }
   ],
   "source": [
    "a = 3 +5j\n",
    "print(a.real)\n",
    "print(a.imag)"
   ]
  },
  {
   "cell_type": "code",
   "execution_count": 9,
   "metadata": {},
   "outputs": [],
   "source": [
    "# d) kiểu dữ liệu đúng sai\n",
    "# Kiểu bool chỉ lưu 2 giá trị True hoặc False"
   ]
  },
  {
   "cell_type": "code",
   "execution_count": 10,
   "metadata": {},
   "outputs": [
    {
     "name": "stdout",
     "output_type": "stream",
     "text": [
      "<class 'bool'>\n",
      "<class 'bool'>\n"
     ]
    }
   ],
   "source": [
    "a = True\n",
    "b = False\n",
    "print(type(a))\n",
    "print(type(b))"
   ]
  },
  {
   "cell_type": "code",
   "execution_count": 11,
   "metadata": {},
   "outputs": [],
   "source": [
    "# chú ý: các giá trị được xác định là True trong python: xâu khác rỗng hoặc số khác 0."
   ]
  },
  {
   "cell_type": "code",
   "execution_count": 13,
   "metadata": {},
   "outputs": [
    {
     "name": "stdout",
     "output_type": "stream",
     "text": [
      "True\n",
      "False\n",
      "True\n",
      "False\n"
     ]
    }
   ],
   "source": [
    "print(bool(100))\n",
    "print(bool(0))\n",
    "print(bool(\"28tech\"))\n",
    "print(bool(\"\"))"
   ]
  },
  {
   "cell_type": "code",
   "execution_count": 14,
   "metadata": {},
   "outputs": [],
   "source": [
    "# e) kiểu dữ liệu xâu kí tự (str):\n",
    "# xâu kí tự tron python được đặt trong dấu nháy đơn hoặc nháy kép trên 1 dòng, trong trường hợp xâu có nhiều dòng thì đặt giữa 3 nháy kép"
   ]
  },
  {
   "cell_type": "code",
   "execution_count": 15,
   "metadata": {},
   "outputs": [
    {
     "name": "stdout",
     "output_type": "stream",
     "text": [
      "<class 'str'>\n",
      "<class 'str'>\n",
      "<class 'str'>\n"
     ]
    }
   ],
   "source": [
    "s = \"28tech\"\n",
    "t = \"\"\"28tech python\n",
    "28tech c++\n",
    "\"\"\"\n",
    "i = \"23\"\n",
    "print(type(s))\n",
    "print(type(t))\n",
    "print(type(i))"
   ]
  },
  {
   "cell_type": "code",
   "execution_count": 16,
   "metadata": {},
   "outputs": [],
   "source": [
    "# f) ép kiểu:\n",
    "# khi bạn muốn chỉ định kiểu cho một biến nào đó bạn có thể ép kiểu cho nó. quá trình casting trong python được hoàn thành bằng cách sử dụng constructor."
   ]
  },
  {
   "cell_type": "code",
   "execution_count": 17,
   "metadata": {},
   "outputs": [
    {
     "name": "stdout",
     "output_type": "stream",
     "text": [
      "<class 'int'>\n",
      "4234\n",
      "<class 'int'>\n",
      "4\n"
     ]
    }
   ],
   "source": [
    "# int(): ép sang kiểu số nguyên\n",
    "a = \"4234\"\n",
    "b = int(a)\n",
    "c = 4.4234\n",
    "d = int(c)\n",
    "print(type(b))\n",
    "print(b)\n",
    "print(type(d))\n",
    "print(d)"
   ]
  },
  {
   "cell_type": "code",
   "execution_count": 19,
   "metadata": {},
   "outputs": [
    {
     "name": "stdout",
     "output_type": "stream",
     "text": [
      "50.332\n",
      "<class 'float'>\n",
      "50.0\n",
      "<class 'float'>\n"
     ]
    }
   ],
   "source": [
    "# float(): ép kiểu sang số float\n",
    "a = float(\"50.332\")\n",
    "print(a)\n",
    "print(type(a))\n",
    "\n",
    "b = float(50)\n",
    "print(b)\n",
    "print(type(b))"
   ]
  },
  {
   "cell_type": "code",
   "execution_count": 20,
   "metadata": {},
   "outputs": [
    {
     "name": "stdout",
     "output_type": "stream",
     "text": [
      "<class 'str'>\n",
      "23423\n",
      "<class 'str'>\n",
      "23423.5432\n",
      "<class 'str'>\n",
      "True\n"
     ]
    }
   ],
   "source": [
    "# str():ép kiểu sang string\n",
    "a = str(\"23423\")\n",
    "b = str(\"23423.5432\")\n",
    "c = str(True)\n",
    "print(type(a))\n",
    "print(a)\n",
    "print(type(b))\n",
    "print(b)\n",
    "print(type(c))\n",
    "print(c)"
   ]
  },
  {
   "cell_type": "code",
   "execution_count": null,
   "metadata": {},
   "outputs": [],
   "source": []
  }
 ],
 "metadata": {
  "kernelspec": {
   "display_name": "Python 3",
   "language": "python",
   "name": "python3"
  },
  "language_info": {
   "codemirror_mode": {
    "name": "ipython",
    "version": 3
   },
   "file_extension": ".py",
   "mimetype": "text/x-python",
   "name": "python",
   "nbconvert_exporter": "python",
   "pygments_lexer": "ipython3",
   "version": "3.10.9"
  }
 },
 "nbformat": 4,
 "nbformat_minor": 2
}
