{
 "cells": [
  {
   "cell_type": "code",
   "execution_count": 1,
   "metadata": {},
   "outputs": [],
   "source": [
    "# 1. if và một số ví dụ về if:\n",
    "# if đươc sử dụng khi bạn cần kiểm tra điều kiện nào đó trước khi thực hiện một hoặc nhiều câu lệnh. các câu lệnh bên trong if được thụt lề so với if\n",
    "\n",
    "# cú pháp\n",
    "# if condition:\n",
    "    # code\n",
    "# nếu condition có giá trị trả về True thì code bên trong if được thực hiện, ngược lại condition mang giá trị False thì code bên trong if sẽ được bỏ qua\n",
    "# condition ở đây thường là các phép so sánh để kiểm tra điều kiện hoặc cũng có thể là kết hợp của nhiều phép so sánh\n",
    "# khi viết condition kết hợp các phép toán so sánh thì bạn dùng toán tử and, 2 là toán tử or, nếu có lẫn cả 2 toán tử này thì cần xem xét lại."
   ]
  },
  {
   "cell_type": "code",
   "execution_count": 3,
   "metadata": {},
   "outputs": [
    {
     "name": "stdout",
     "output_type": "stream",
     "text": [
      "hello 28tech\n",
      "python\n"
     ]
    }
   ],
   "source": [
    "# ví dụ\n",
    "if 100>50:\n",
    "    print(\"hello 28tech\")\n",
    "if True:\n",
    "    print(\"python\")\n",
    "if False:\n",
    "    print(\"c++\")"
   ]
  },
  {
   "cell_type": "code",
   "execution_count": 5,
   "metadata": {},
   "outputs": [
    {
     "name": "stdout",
     "output_type": "stream",
     "text": [
      "n nằng trong khoăng [50,100]\n",
      "chẵn\n",
      "lẻ\n"
     ]
    }
   ],
   "source": [
    "# kiểm tra n có nằm trong đoạn [a,b]\n",
    "n = 60 \n",
    "if (n >= 50) and (n <= 100):\n",
    "    print(\"n nằng trong khoảng [50,100]\")\n",
    "# kiểm tra 1 số là số chẵn,lẻ hay ko \n",
    "n = 32\n",
    "if n % 2 == 0:\n",
    "    print(\"chẵn\")\n",
    "m = 31\n",
    "if m % 2 == 1:\n",
    "    print(\"lẻ\")"
   ]
  },
  {
   "cell_type": "code",
   "execution_count": 6,
   "metadata": {},
   "outputs": [],
   "source": [
    "# 2.else:\n",
    "# else được sử dụng sử dụng trong trường hợp condition bên trong if là sai\n",
    "# cú pháp\n",
    "# if condition:\n",
    "    # code if condition is True\n",
    "# else:\n",
    "    # code if condition is False\n"
   ]
  },
  {
   "cell_type": "code",
   "execution_count": 7,
   "metadata": {},
   "outputs": [
    {
     "name": "stdout",
     "output_type": "stream",
     "text": [
      "chẵn\n"
     ]
    }
   ],
   "source": [
    "# ví dụ\n",
    "# kiểm tra số chẵn lẻ\n",
    "n = 100\n",
    "if n % 2 == 0:\n",
    "    print(\"chẵn\")\n",
    "else:\n",
    "    print(\"lẻ\")"
   ]
  },
  {
   "cell_type": "code",
   "execution_count": 8,
   "metadata": {},
   "outputs": [],
   "source": [
    "# 3.elif:\n",
    "# từ khóa elif (else if) trong python được sử dụng bên dưới if để kiểm tra thêm điều kiện bổ sung nếu điều kiện bên trên sai. các điều kiện ở bên trong if và elif nếu đúng thì khối code tương ứng sẽ thực thi, nếu không có điều kiện đúng thì khối code bên trong else sẽ được thực thi. \n",
    "# cú pháp\n",
    "# if condition1:\n",
    "    # code1\n",
    "# elif condition2:\n",
    "    # code2\n",
    "# ...\n",
    "# elif conditionN:\n",
    "    # codeN\n",
    "# else:\n",
    "    # code else\n"
   ]
  },
  {
   "cell_type": "code",
   "execution_count": 11,
   "metadata": {},
   "outputs": [
    {
     "name": "stdout",
     "output_type": "stream",
     "text": [
      "200 bằng 200\n"
     ]
    }
   ],
   "source": [
    "# ví dụ\n",
    "a,b  = 200,200\n",
    "if a>b:\n",
    "    print(a,\"lớn hơn\",b)\n",
    "elif a == b:\n",
    "    print(a ,\"bằng\", b)\n",
    "else:\n",
    "    print(a,\"nhỏ hơn\",b)"
   ]
  },
  {
   "cell_type": "code",
   "execution_count": 14,
   "metadata": {},
   "outputs": [
    {
     "name": "stdout",
     "output_type": "stream",
     "text": [
      "dữ liệu nhập vào ko hợp lệ\n"
     ]
    }
   ],
   "source": [
    "# kiểm tra số ngày của tháng\n",
    "t = 13\n",
    "if t == 1 or t == 3 or t == 5 or t == 7 or t == 8 or t == 10 or t == 12:\n",
    "    print(\" tháng có 31 ngày\")\n",
    "elif t == 4 or t == 6 or t == 9 or t == 11:\n",
    "    print(\"tháng có 30 ngày\")\n",
    "elif t == 2:\n",
    "    print(\"tháng có 28 ngày\")\n",
    "else:\n",
    "    print(\"dữ liệu nhập vào ko hợp lệ\")"
   ]
  },
  {
   "cell_type": "code",
   "execution_count": 1,
   "metadata": {},
   "outputs": [
    {
     "name": "stdout",
     "output_type": "stream",
     "text": [
      "100 bé hơn 200\n"
     ]
    }
   ],
   "source": [
    "# 4. shorthand if và toán tử 3 ngôi\n",
    "# shorthand if:\n",
    "# shorthand if: bạn có thể sử dụng câu lệnh if trên 1 dòng\n",
    "a,b = 100,200\n",
    "if a<b : print(a,\"bé hơn\",b)"
   ]
  },
  {
   "cell_type": "code",
   "execution_count": 3,
   "metadata": {},
   "outputs": [
    {
     "name": "stdout",
     "output_type": "stream",
     "text": [
      "100 bé hơn 200\n",
      "28tech\n",
      "abcd\n"
     ]
    }
   ],
   "source": [
    "# nếu trong if có nhiều câu lệnh, bạn có thể đặt dấu chấm phẩy giữa các câu lệnh (hạn chế dùng)\n",
    "a,b = 100,200\n",
    "if a<b: print(a,\"bé hơn\",b); print(\"28tech\"); print(\"abcd\")"
   ]
  },
  {
   "cell_type": "code",
   "execution_count": 4,
   "metadata": {},
   "outputs": [],
   "source": [
    "# toán tử ba ngôi\n",
    "# variable = statement if condition else statement\n"
   ]
  },
  {
   "cell_type": "code",
   "execution_count": 5,
   "metadata": {},
   "outputs": [
    {
     "name": "stdout",
     "output_type": "stream",
     "text": [
      "python\n"
     ]
    }
   ],
   "source": [
    "# ví dụ\n",
    "a,b = 100,200\n",
    "res = \"28tech\" if a > b else \"python\"\n",
    "print(res)"
   ]
  },
  {
   "cell_type": "code",
   "execution_count": 6,
   "metadata": {},
   "outputs": [],
   "source": [
    "# 5.if lồng nhau:\n",
    "# khi điều kiện trong if quá phức tạp, bạn có thể sử dụng if lồng nhau (nested if) để kiểm tra từng điều kiện một\n"
   ]
  },
  {
   "cell_type": "code",
   "execution_count": 11,
   "metadata": {},
   "outputs": [
    {
     "name": "stdout",
     "output_type": "stream",
     "text": [
      "Yes\n",
      "Yes\n"
     ]
    }
   ],
   "source": [
    "# kiểm tra N có xem có phải sô nằm trong đoạn [20,30] và chia hết ít nhắt một trong 3 số 2,3,5. nếu đúng in ra Yes, ngược lại NO\n",
    "n = 27\n",
    "# if 20<n<30 and (n % 2 == 0 or n % 3 == 0 or n % 5 == 0):\n",
    "if n<30 and n > 20 and (n % 2 == 0 or n % 3 == 0 or n % 5 == 0):\n",
    "    print(\"Yes\")\n",
    "else:\n",
    "    print(\"NO\")\n",
    "\n",
    "# hoặc cách 2 nested if\n",
    "if n < 30 and n > 20 :\n",
    "    if n % 2 == 0 or n % 3 == 0 or n % 5 == 0:\n",
    "        print(\"Yes\")\n",
    "    else:\n",
    "        print(\"NO\")\n",
    "else:\n",
    "    print(\"NO\")"
   ]
  },
  {
   "cell_type": "code",
   "execution_count": null,
   "metadata": {},
   "outputs": [],
   "source": []
  }
 ],
 "metadata": {
  "kernelspec": {
   "display_name": "Python 3",
   "language": "python",
   "name": "python3"
  },
  "language_info": {
   "codemirror_mode": {
    "name": "ipython",
    "version": 3
   },
   "file_extension": ".py",
   "mimetype": "text/x-python",
   "name": "python",
   "nbconvert_exporter": "python",
   "pygments_lexer": "ipython3",
   "version": "3.10.9"
  }
 },
 "nbformat": 4,
 "nbformat_minor": 2
}
