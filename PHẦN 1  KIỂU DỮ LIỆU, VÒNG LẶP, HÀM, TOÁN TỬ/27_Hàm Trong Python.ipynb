{
 "cells": [
  {
   "cell_type": "code",
   "execution_count": 1,
   "metadata": {},
   "outputs": [],
   "source": [
    "## hàm \n",
    "# - hàm giúp lập trình viên có thể sử dụng lại code của mình (code reuse), chúng cho phép bạn định nghĩa một khối lệnh và có thể thực hiện đi thực hiện lại nhiều lần trong 1 chương trình\n",
    "# - python cung cấp các hàm có sẵn builn-in function như print(), max(), len(),type(),.. giờ đây chúng ta có thể tự xây dựng 1 hàm cho riêng mình"
   ]
  },
  {
   "cell_type": "code",
   "execution_count": 2,
   "metadata": {},
   "outputs": [],
   "source": [
    "## 1 xây dựng hàm\n",
    "# để sử dụng hàm ta có thể sử dụng từ khóa def, trước khi xây dựng hàm cần xác định các tham số(giá trị mà bạn truyền vào hàm ), câu lệnh return nếu muốn hàm trả về một giá trị nào đó\n",
    "# hàm chỉ được chạy khi nó được gọi (function call)\n"
   ]
  },
  {
   "cell_type": "code",
   "execution_count": 1,
   "metadata": {},
   "outputs": [],
   "source": [
    "# cú pháp\n",
    "def function_name(parameter):\n",
    "    # code"
   ]
  },
  {
   "cell_type": "code",
   "execution_count": 3,
   "metadata": {},
   "outputs": [
    {
     "name": "stdout",
     "output_type": "stream",
     "text": [
      "20\n"
     ]
    }
   ],
   "source": [
    "# functions\n",
    "# tham số hình thức : parameter \n",
    "def tong(a,b):\n",
    "    res = a + b\n",
    "    return res\n",
    "m,n = 10,20\n",
    "print(tong(m,m)) # đối số = tham số chính thức = Argument \n",
    "# khi gọi hàm sẽ gán lần lượt tham số chính thức cho tham số hình thức"
   ]
  },
  {
   "cell_type": "code",
   "execution_count": 10,
   "metadata": {},
   "outputs": [
    {
     "name": "stdin",
     "output_type": "stream",
     "text": [
      " 5 10\n"
     ]
    },
    {
     "name": "stdout",
     "output_type": "stream",
     "text": [
      "15\n"
     ]
    }
   ],
   "source": [
    "# code để chạy chương trình \n",
    "if __name__ == \"__main__\":\n",
    "    x,y = map(int,input().split())\n",
    "    print(tong(x,y))\n"
   ]
  },
  {
   "cell_type": "code",
   "execution_count": null,
   "metadata": {},
   "outputs": [],
   "source": [
    "# 12p"
   ]
  }
 ],
 "metadata": {
  "kernelspec": {
   "display_name": "Python 3 (ipykernel)",
   "language": "python",
   "name": "python3"
  },
  "language_info": {
   "codemirror_mode": {
    "name": "ipython",
    "version": 3
   },
   "file_extension": ".py",
   "mimetype": "text/x-python",
   "name": "python",
   "nbconvert_exporter": "python",
   "pygments_lexer": "ipython3",
   "version": "3.10.9"
  }
 },
 "nbformat": 4,
 "nbformat_minor": 4
}
