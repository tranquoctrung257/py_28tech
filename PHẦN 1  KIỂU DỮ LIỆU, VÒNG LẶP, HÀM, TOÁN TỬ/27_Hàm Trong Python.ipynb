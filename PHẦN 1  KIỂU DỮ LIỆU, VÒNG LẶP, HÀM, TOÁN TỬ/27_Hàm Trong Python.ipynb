{
 "cells": [
  {
   "cell_type": "code",
   "execution_count": 1,
   "metadata": {},
   "outputs": [],
   "source": [
    "## hàm \n",
    "# - hàm giúp lập trình viên có thể sử dụng lại code của mình (code reuse), chúng cho phép bạn định nghĩa một khối lệnh và có thể thực hiện đi thực hiện lại nhiều lần trong 1 chương trình\n",
    "# - python cung cấp các hàm có sẵn builn-in function như print(), max(), len(),type(),.. giờ đây chúng ta có thể tự xây dựng 1 hàm cho riêng mình"
   ]
  },
  {
   "cell_type": "code",
   "execution_count": 2,
   "metadata": {},
   "outputs": [],
   "source": [
    "## 1 xây dựng hàm\n",
    "# để sử dụng hàm ta có thể sử dụng từ khóa def, trước khi xây dựng hàm cần xác định các tham số(giá trị mà bạn truyền vào hàm ), câu lệnh return nếu muốn hàm trả về một giá trị nào đó\n",
    "# hàm chỉ được chạy khi nó được gọi (function call)\n"
   ]
  },
  {
   "cell_type": "code",
   "execution_count": 1,
   "metadata": {},
   "outputs": [],
   "source": [
    "# cú pháp\n",
    "def function_name(parameter):\n",
    "    # code"
   ]
  },
  {
   "cell_type": "code",
   "execution_count": 5,
   "metadata": {},
   "outputs": [
    {
     "name": "stdout",
     "output_type": "stream",
     "text": [
      "30\n"
     ]
    }
   ],
   "source": [
    "# functions\n",
    "# tham số hình thức : parameter \n",
    "def tong(a,b):\n",
    "    res = a + b\n",
    "    return res\n",
    "m,n = 10,20\n",
    "print(tong(m,n)) # đối số = tham số chính thức = Argument \n",
    "# khi gọi hàm sẽ gán lần lượt tham số chính thức cho tham số hình thức"
   ]
  },
  {
   "cell_type": "code",
   "execution_count": 4,
   "metadata": {},
   "outputs": [
    {
     "ename": "NameError",
     "evalue": "name 'tong' is not defined",
     "output_type": "error",
     "traceback": [
      "\u001b[1;31m---------------------------------------------------------------------------\u001b[0m",
      "\u001b[1;31mNameError\u001b[0m                                 Traceback (most recent call last)",
      "Cell \u001b[1;32mIn[4], line 4\u001b[0m\n\u001b[0;32m      2\u001b[0m \u001b[38;5;28;01mif\u001b[39;00m \u001b[38;5;18m__name__\u001b[39m \u001b[38;5;241m==\u001b[39m \u001b[38;5;124m\"\u001b[39m\u001b[38;5;124m__main__\u001b[39m\u001b[38;5;124m\"\u001b[39m:\n\u001b[0;32m      3\u001b[0m     x,y \u001b[38;5;241m=\u001b[39m \u001b[38;5;28mmap\u001b[39m(\u001b[38;5;28mint\u001b[39m,\u001b[38;5;28minput\u001b[39m()\u001b[38;5;241m.\u001b[39msplit())\n\u001b[1;32m----> 4\u001b[0m     \u001b[38;5;28mprint\u001b[39m(\u001b[43mtong\u001b[49m(x,y))\n",
      "\u001b[1;31mNameError\u001b[0m: name 'tong' is not defined"
     ]
    }
   ],
   "source": [
    "# code để chạy chương trình \n",
    "if __name__ == \"__main__\":\n",
    "    x,y = map(int,input().split())\n",
    "    print(tong(x,y))\n"
   ]
  },
  {
   "cell_type": "code",
   "execution_count": 6,
   "metadata": {},
   "outputs": [
    {
     "name": "stdout",
     "output_type": "stream",
     "text": [
      "1000\n"
     ]
    }
   ],
   "source": [
    "# khi gọi hàm sẽ gán lần lượt tham số chính thức cho tham số hình thức\n",
    "# ví dụ \n",
    "def change(n):\n",
    "    n*=2\n",
    "a = 1000\n",
    "change(a)\n",
    "print(a)"
   ]
  },
  {
   "cell_type": "code",
   "execution_count": 10,
   "metadata": {},
   "outputs": [
    {
     "name": "stdout",
     "output_type": "stream",
     "text": [
      "xin chào\n",
      "xin chào\n",
      "xin chào\n",
      "xin chào\n",
      "xin chào\n",
      "xin chào\n",
      "xin chào\n",
      "xin chào\n",
      "xin chào\n",
      "xin chào\n"
     ]
    }
   ],
   "source": [
    "# có thể gọi hàm nhiều lần \n",
    "def xinchao():\n",
    "    print(\"xin chào\")\n",
    "if __name__ == \"__main__\":\n",
    "    for i in range(10):\n",
    "        xinchao()"
   ]
  },
  {
   "cell_type": "code",
   "execution_count": 12,
   "metadata": {},
   "outputs": [
    {
     "name": "stdout",
     "output_type": "stream",
     "text": [
      "xin chào anh trng 123\n"
     ]
    }
   ],
   "source": [
    "# 2. keyword argument:\n",
    "# khi thực hiện gọi hàm thi thứ tự của đối số bạn truyển cho hàm làm rất quan trọng.\n",
    "\n",
    "def xinchao(name1,name2,name3):\n",
    "    print(\"xin chào\",name1,name2,name3)\n",
    "if __name__ == \"__main__\":\n",
    "    xinchao(name2=\"trng\",name1=\"anh\",name3=\"123\")"
   ]
  },
  {
   "cell_type": "code",
   "execution_count": 15,
   "metadata": {},
   "outputs": [
    {
     "name": "stdout",
     "output_type": "stream",
     "text": [
      "tèo xe ôm\n",
      "tèo lập trình viên\n"
     ]
    }
   ],
   "source": [
    "# 3 default argument:\n",
    "# bạn có thể chỉ định các giá trị mặc định cho các đối số khi xây dựng một hàm, giá trị mặc định được sử dụng nếu hàm được gọi mà không có đối số tương ứng\n",
    "# ví dụ \n",
    "def info(name,job=\"lập trình viên\"):\n",
    "    print(name,job)\n",
    "info(\"tèo\",\"xe ôm\")\n",
    "info(\"tèo\")"
   ]
  },
  {
   "cell_type": "code",
   "execution_count": 18,
   "metadata": {},
   "outputs": [
    {
     "name": "stdout",
     "output_type": "stream",
     "text": [
      "3628800\n"
     ]
    }
   ],
   "source": [
    "# viết hàm tính giai thừa\n",
    "def giaithua(n):\n",
    "    gt = 1\n",
    "    for i in range(1,n+1):\n",
    "        gt*=i\n",
    "    print(gt)\n",
    "giaithua(10)"
   ]
  },
  {
   "cell_type": "code",
   "execution_count": 20,
   "metadata": {},
   "outputs": [
    {
     "name": "stdout",
     "output_type": "stream",
     "text": [
      "1024\n"
     ]
    }
   ],
   "source": [
    "# viết hàm a^b\n",
    "def luythua(a,b):\n",
    "    res = 1\n",
    "    for i in range(b):\n",
    "        res*=a\n",
    "    return res\n",
    "if __name__ == \"__main__\":\n",
    "    print(luythua(2,10))"
   ]
  },
  {
   "cell_type": "code",
   "execution_count": 22,
   "metadata": {},
   "outputs": [
    {
     "name": "stdout",
     "output_type": "stream",
     "text": [
      "YES\n"
     ]
    }
   ],
   "source": [
    "# viết hàm kiểm tra số vừa chia hết cho 3 và vùa chia hết cho 5\n",
    "def solve():\n",
    "    n = int(input())\n",
    "    if n % 3 == 0 and n % 5 == 0:\n",
    "        print(\"YES\")\n",
    "    else:\n",
    "        print(\"NO\")\n",
    "if __name__ == \"__main__\":\n",
    "    solve()"
   ]
  },
  {
   "cell_type": "code",
   "execution_count": 25,
   "metadata": {},
   "outputs": [
    {
     "name": "stdout",
     "output_type": "stream",
     "text": [
      "YES\n"
     ]
    }
   ],
   "source": [
    "def check(n):\n",
    "    if n % 3 == 0 and n % 5 ==0:\n",
    "        return True\n",
    "    return False\n",
    "if __name__ == \"__main__\":\n",
    "    n = int(input())\n",
    "    if check(n): print(\"YES\")\n",
    "    else: print(\"NO\")"
   ]
  },
  {
   "cell_type": "code",
   "execution_count": null,
   "metadata": {},
   "outputs": [],
   "source": []
  }
 ],
 "metadata": {
  "kernelspec": {
   "display_name": "Python 3 (ipykernel)",
   "language": "python",
   "name": "python3"
  },
  "language_info": {
   "codemirror_mode": {
    "name": "ipython",
    "version": 3
   },
   "file_extension": ".py",
   "mimetype": "text/x-python",
   "name": "python",
   "nbconvert_exporter": "python",
   "pygments_lexer": "ipython3",
   "version": "3.10.9"
  }
 },
 "nbformat": 4,
 "nbformat_minor": 4
}
