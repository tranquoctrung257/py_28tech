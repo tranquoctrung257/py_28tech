{
 "cells": [
  {
   "cell_type": "code",
   "execution_count": 3,
   "metadata": {},
   "outputs": [
    {
     "name": "stdout",
     "output_type": "stream",
     "text": [
      "False\n"
     ]
    }
   ],
   "source": [
    "# x^2\n",
    "import math\n",
    "# square số chính phương\n",
    "def square(n):\n",
    "    can = math.isqrt(n)\n",
    "    if can * can == n: return True\n",
    "    else: return False\n",
    "\n",
    "if __name__ == \"__main__\":\n",
    "    print(square(26))"
   ]
  },
  {
   "cell_type": "code",
   "execution_count": 5,
   "metadata": {},
   "outputs": [
    {
     "name": "stdout",
     "output_type": "stream",
     "text": [
      "False\n"
     ]
    }
   ],
   "source": [
    "# số lập phương cube\n",
    "def cube(n):\n",
    "    can = int(math.pow(n,1/3))\n",
    "    return can ** 3 == n or ((can+ 1 ) ** 3 ) == n\n",
    "\n",
    "if __name__ == \"__main__\":\n",
    "    print(cube(50))"
   ]
  },
  {
   "cell_type": "code",
   "execution_count": null,
   "metadata": {},
   "outputs": [],
   "source": []
  }
 ],
 "metadata": {
  "kernelspec": {
   "display_name": "Python 3",
   "language": "python",
   "name": "python3"
  },
  "language_info": {
   "codemirror_mode": {
    "name": "ipython",
    "version": 3
   },
   "file_extension": ".py",
   "mimetype": "text/x-python",
   "name": "python",
   "nbconvert_exporter": "python",
   "pygments_lexer": "ipython3",
   "version": "3.10.9"
  }
 },
 "nbformat": 4,
 "nbformat_minor": 2
}
