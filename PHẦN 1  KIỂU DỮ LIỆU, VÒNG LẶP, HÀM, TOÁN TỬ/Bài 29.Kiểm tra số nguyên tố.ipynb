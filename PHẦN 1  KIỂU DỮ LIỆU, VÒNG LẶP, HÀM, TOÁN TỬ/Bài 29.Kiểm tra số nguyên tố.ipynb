{
 "cells": [
  {
   "cell_type": "code",
   "execution_count": 1,
   "metadata": {},
   "outputs": [],
   "source": [
    "# kiểm tra số nguyên tố\n",
    "# số nguyên tố là số nguyên dương, và chỉ có 2 ước là 1 và chính nó, 1 không phải là số nguyên tố : 2,3,5,7,13,17,19"
   ]
  },
  {
   "cell_type": "code",
   "execution_count": 3,
   "metadata": {},
   "outputs": [
    {
     "name": "stdout",
     "output_type": "stream",
     "text": [
      "False\n"
     ]
    }
   ],
   "source": [
    "# cách cơ bản \n",
    "def so_nguyen_to(n):\n",
    "    cnt = 0\n",
    "    for i in range(1,n+1):\n",
    "        if n % i == 0:\n",
    "            cnt+=1\n",
    "    if cnt == 2:\n",
    "        return True\n",
    "    else: return False\n",
    "if __name__ == \"__main__\":\n",
    "    print(so_nguyen_to(15))\n"
   ]
  },
  {
   "cell_type": "code",
   "execution_count": 4,
   "metadata": {},
   "outputs": [
    {
     "name": "stdout",
     "output_type": "stream",
     "text": [
      "1 2 3 4 5 6 7 8 9 10 11 12 13 14 15 16 17 18 19 20 21 22 23 24 25 26 27 28 29 30 31 32 33 34 35 36 37 38 39 40 41 "
     ]
    }
   ],
   "source": [
    "# cách nhanh hơn\n",
    "import math\n",
    "def so_nguyen_to(n):\n",
    "    cnt = 0\n",
    "    for i in range(1,math.isqrt(n)+1):\n",
    "        if n % i == 0:\n",
    "            cnt+=1\n",
    "            if n != n//i:\n",
    "                cnt +=1\n",
    "    if cnt == 2:\n",
    "        return True\n",
    "    else: return False\n",
    "if __name__ == \"__main__\":\n",
    "    print(so_nguyen_to(15))"
   ]
  },
  {
   "cell_type": "code",
   "execution_count": 2,
   "metadata": {},
   "outputs": [
    {
     "name": "stdout",
     "output_type": "stream",
     "text": [
      "True\n"
     ]
    }
   ],
   "source": [
    "import math \n",
    "def prime(n):\n",
    "    if n < 2: return False\n",
    "    for i in range(2,math.isqrt(n)+1):\n",
    "        if n % i == 0:return False\n",
    "    return True\n",
    "if __name__ == \"__main__\":\n",
    "    n = int(2)\n",
    "    # for i in range(1,n+1):\n",
    "    #     if prime(n):\n",
    "    #         print(i,end=\" \")\n",
    "    print(prime(n))"
   ]
  },
  {
   "cell_type": "code",
   "execution_count": null,
   "metadata": {},
   "outputs": [],
   "source": []
  }
 ],
 "metadata": {
  "kernelspec": {
   "display_name": "Python 3",
   "language": "python",
   "name": "python3"
  },
  "language_info": {
   "codemirror_mode": {
    "name": "ipython",
    "version": 3
   },
   "file_extension": ".py",
   "mimetype": "text/x-python",
   "name": "python",
   "nbconvert_exporter": "python",
   "pygments_lexer": "ipython3",
   "version": "3.10.9"
  }
 },
 "nbformat": 4,
 "nbformat_minor": 2
}
