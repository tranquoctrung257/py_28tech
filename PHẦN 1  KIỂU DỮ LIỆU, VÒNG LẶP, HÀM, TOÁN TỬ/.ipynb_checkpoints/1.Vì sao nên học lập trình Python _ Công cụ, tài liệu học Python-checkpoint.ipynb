{
 "cells": [
  {
   "cell_type": "code",
   "execution_count": 2,
   "metadata": {},
   "outputs": [],
   "source": [
    "# lợi ích khi học python\n",
    "\n",
    "# dễ học, cú pháp ngắn gọn\n",
    "# đa năng: web, game, mobile, GUI, AI,...\n",
    "# có nhiều frameword dồi dào\n",
    "# ..."
   ]
  },
  {
   "cell_type": "code",
   "execution_count": null,
   "metadata": {},
   "outputs": [],
   "source": [
    "# các công cụ lập trình python\n",
    "\n",
    "# pycharm\n",
    "# vs code\n",
    "# sublime text\n",
    "# spyder\n",
    "# jupyter"
   ]
  }
 ],
 "metadata": {
  "kernelspec": {
   "display_name": "Python 3",
   "language": "python",
   "name": "python3"
  },
  "language_info": {
   "codemirror_mode": {
    "name": "ipython",
    "version": 3
   },
   "file_extension": ".py",
   "mimetype": "text/x-python",
   "name": "python",
   "nbconvert_exporter": "python",
   "pygments_lexer": "ipython3",
   "version": "3.10.9"
  }
 },
 "nbformat": 4,
 "nbformat_minor": 2
}
