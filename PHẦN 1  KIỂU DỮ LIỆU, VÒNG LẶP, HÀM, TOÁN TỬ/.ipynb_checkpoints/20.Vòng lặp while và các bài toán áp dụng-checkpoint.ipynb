{
 "cells": [
  {
   "cell_type": "code",
   "execution_count": 1,
   "id": "00cd7c8e-b852-40db-be14-0dc9addf6aa4",
   "metadata": {},
   "outputs": [],
   "source": [
    "## 3 vòng lặp while:\n",
    "# a) vòng lặp while,break,continue:\n",
    "# while được sử dụng khi bạn muốn thực hiện một tác vụ vô thời hạn, cho đến khi một điều kiện cụ thể được đáp ứng. đây là một vòng lặp được kiểm soát theo điều kiện và thường sử dụng khi chưa biết trước số lượng lặp.\n"
   ]
  },
  {
   "cell_type": "code",
   "execution_count": 2,
   "id": "b736f0b5-e177-4e49-9c7d-39fd62ab6b3b",
   "metadata": {},
   "outputs": [],
   "source": [
    "# while condition:\n",
    "#     code when condtion is True\n",
    "# else:\n",
    "#     code while condtion is False\n"
   ]
  },
  {
   "cell_type": "code",
   "execution_count": 4,
   "id": "817533fc-a0a2-4928-aca4-88100aff04b1",
   "metadata": {},
   "outputs": [
    {
     "name": "stdout",
     "output_type": "stream",
     "text": [
      "cấu trúc vòng lặp tương ứng khi n bằng: 1\n",
      "cấu trúc vòng lặp tương ứng khi n bằng: 2\n",
      "cấu trúc vòng lặp tương ứng khi n bằng: 3\n",
      "cấu trúc vòng lặp tương ứng khi n bằng: 4\n",
      "cấu trúc vòng lặp tương ứng khi n bằng: 5\n",
      "vòng lặp while kết thúc\n"
     ]
    }
   ],
   "source": [
    "# ví dụ\n",
    "n = 1\n",
    "while n <= 5:\n",
    "    print(\"cấu trúc vòng lặp tương ứng khi n bằng:\",n)\n",
    "    n+=1\n",
    "else:\n",
    "    print(\"vòng lặp while kết thúc\")"
   ]
  },
  {
   "cell_type": "code",
   "execution_count": 9,
   "id": "e9dae45f-a997-4684-baa4-53ad05ddc880",
   "metadata": {},
   "outputs": [
    {
     "name": "stdout",
     "output_type": "stream",
     "text": [
      "1\n",
      "2\n",
      "3\n",
      "4\n",
      "5\n",
      "6\n",
      "7\n",
      "8\n",
      "9\n",
      "10\n",
      "11\n",
      "12\n",
      "13\n",
      "14\n",
      "15\n",
      "16\n",
      "17\n",
      "18\n",
      "19\n",
      "20\n",
      "20\n",
      "19\n",
      "18\n",
      "17\n",
      "16\n",
      "15\n",
      "14\n",
      "13\n",
      "12\n",
      "11\n",
      "10\n",
      "9\n",
      "8\n",
      "7\n",
      "6\n",
      "5\n",
      "4\n",
      "3\n",
      "2\n",
      "1\n"
     ]
    }
   ],
   "source": [
    "# ví dụ in ra từ 1 đến 20\n",
    "n = 20\n",
    "i = 1\n",
    "while i <= n:\n",
    "    print(i)\n",
    "    i+=1\n",
    "\n",
    "# ngược lại\n",
    "while n >= 1:\n",
    "    print(n)\n",
    "    n-=1"
   ]
  },
  {
   "cell_type": "code",
   "execution_count": 10,
   "id": "aecb674f-d29c-4a9c-a50d-4225a5993c26",
   "metadata": {},
   "outputs": [
    {
     "name": "stdout",
     "output_type": "stream",
     "text": [
      "10\n",
      "11\n",
      "12\n",
      "13\n",
      "14\n",
      "15\n",
      "16\n",
      "17\n",
      "18\n",
      "19\n",
      "20\n"
     ]
    }
   ],
   "source": [
    "# từ 10 đến 20\n",
    "a = 10\n",
    "b = 20\n",
    "while a <= b:\n",
    "    print(a)\n",
    "    a+=1"
   ]
  },
  {
   "cell_type": "code",
   "execution_count": 12,
   "id": "059330f7-5d3f-4bd8-8891-7b55edeb485e",
   "metadata": {},
   "outputs": [
    {
     "name": "stdout",
     "output_type": "stream",
     "text": [
      "nhập n: -1\n",
      "nhập n: 0\n",
      "nhập n: 312\n"
     ]
    }
   ],
   "source": [
    "# yêu cầu người dùng nhập số dương\n",
    "while True:\n",
    "    n = int(input(\"nhập n:\"))\n",
    "    if n > 0:\n",
    "        break"
   ]
  },
  {
   "cell_type": "code",
   "execution_count": 13,
   "id": "36131141-0475-4289-84d4-f1983e1a024c",
   "metadata": {},
   "outputs": [],
   "source": [
    "# chữ số của 1 số nguyên \n",
    "# tinh tổng chữ số, đếm chữ số, tính tổng chữ số chẵn, chữ số nguyên tố, số thuận nghịch, số lộc phát.\n"
   ]
  },
  {
   "cell_type": "code",
   "execution_count": 2,
   "id": "08fbfab4-ea97-46c9-ae4d-3958cf3bc341",
   "metadata": {},
   "outputs": [
    {
     "name": "stdout",
     "output_type": "stream",
     "text": [
      "số chữ số của n: 4\n"
     ]
    }
   ],
   "source": [
    "# ví dụ tính số chữ số\n",
    "n = 1234\n",
    "dem = 0\n",
    "while n != 0:\n",
    "    dem += 1\n",
    "    n //= 10\n",
    "print(\"số chữ số của n:\",dem)"
   ]
  },
  {
   "cell_type": "code",
   "execution_count": 3,
   "id": "a79e8062-49f8-41b7-8a26-de4ce4555cc4",
   "metadata": {},
   "outputs": [
    {
     "name": "stdout",
     "output_type": "stream",
     "text": [
      "tổng chữ số của n: 10\n"
     ]
    }
   ],
   "source": [
    "n = 1234\n",
    "tong = 0\n",
    "while n != 0:\n",
    "    tong += n % 10\n",
    "    n //= 10\n",
    "print(\"tổng chữ số của n:\",tong)"
   ]
  },
  {
   "cell_type": "code",
   "execution_count": 4,
   "id": "d495bacf-33ad-454d-9586-76855f87125e",
   "metadata": {},
   "outputs": [
    {
     "name": "stdout",
     "output_type": "stream",
     "text": [
      "4321\n"
     ]
    }
   ],
   "source": [
    "# ví dụ lật ngược số nguyên\n",
    "n = 1234\n",
    "lat = 0\n",
    "while n != 0:\n",
    "    lat = lat * 10 + n % 10\n",
    "    n //= 10\n",
    "print(lat)"
   ]
  },
  {
   "cell_type": "code",
   "execution_count": 10,
   "id": "bb58ffc7-7f14-4568-b736-da42ec0f7c05",
   "metadata": {},
   "outputs": [
    {
     "name": "stdout",
     "output_type": "stream",
     "text": [
      "2500\n"
     ]
    }
   ],
   "source": [
    "# tính tổng chữ số chẵn trong khoảng từ 1 đến 100\n",
    "i = 1\n",
    "n = 100\n",
    "tong = 0\n",
    "while i <= n:\n",
    "    if i % 2 != 0:\n",
    "        tong+=i\n",
    "    i+=1\n",
    "print(tong)\n"
   ]
  },
  {
   "cell_type": "code",
   "execution_count": null,
   "id": "6be6f62d-294d-4555-b0e0-9ee47c68256b",
   "metadata": {},
   "outputs": [],
   "source": []
  }
 ],
 "metadata": {
  "kernelspec": {
   "display_name": "Python 3 (ipykernel)",
   "language": "python",
   "name": "python3"
  },
  "language_info": {
   "codemirror_mode": {
    "name": "ipython",
    "version": 3
   },
   "file_extension": ".py",
   "mimetype": "text/x-python",
   "name": "python",
   "nbconvert_exporter": "python",
   "pygments_lexer": "ipython3",
   "version": "3.10.9"
  }
 },
 "nbformat": 4,
 "nbformat_minor": 5
}
