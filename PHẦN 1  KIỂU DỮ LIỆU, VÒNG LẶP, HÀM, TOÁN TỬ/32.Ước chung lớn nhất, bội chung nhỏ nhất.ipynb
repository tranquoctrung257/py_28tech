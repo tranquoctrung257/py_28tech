{
 "cells": [
  {
   "cell_type": "code",
   "execution_count": 9,
   "metadata": {},
   "outputs": [
    {
     "name": "stdout",
     "output_type": "stream",
     "text": [
      "3\n",
      "90\n",
      "5\n",
      "140\n"
     ]
    }
   ],
   "source": [
    "# UCLN , BCNN\n",
    "import math\n",
    "def gcd(a,b):\n",
    "    # print(a,b)\n",
    "    while b != 0:\n",
    "        # đổi a,b => b,a % b\n",
    "        a,b = b,a % b\n",
    "        # print(a,b)\n",
    "    return(a)\n",
    "print(gcd(18,15))\n",
    "\n",
    "# BCNN\n",
    "def lcm(a,b):\n",
    "    return( a * b // gcd(a,b))\n",
    "if __name__ == \"__main__\":\n",
    "    print(lcm(15,18))\n",
    "    # để tìm ước lón nhất của nhiều số\n",
    "    a,b,c = 10,20,35\n",
    "    print(gcd(gcd(a,b),c))\n",
    "    print(lcm(lcm(a,b),c))"
   ]
  },
  {
   "cell_type": "code",
   "execution_count": null,
   "metadata": {},
   "outputs": [],
   "source": []
  },
  {
   "cell_type": "code",
   "execution_count": null,
   "metadata": {},
   "outputs": [],
   "source": []
  }
 ],
 "metadata": {
  "kernelspec": {
   "display_name": "Python 3",
   "language": "python",
   "name": "python3"
  },
  "language_info": {
   "codemirror_mode": {
    "name": "ipython",
    "version": 3
   },
   "file_extension": ".py",
   "mimetype": "text/x-python",
   "name": "python",
   "nbconvert_exporter": "python",
   "pygments_lexer": "ipython3",
   "version": "3.10.9"
  }
 },
 "nbformat": 4,
 "nbformat_minor": 2
}
