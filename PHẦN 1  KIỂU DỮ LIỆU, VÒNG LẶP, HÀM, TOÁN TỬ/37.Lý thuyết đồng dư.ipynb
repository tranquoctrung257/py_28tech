{
 "cells": [
  {
   "cell_type": "code",
   "execution_count": 3,
   "metadata": {},
   "outputs": [
    {
     "name": "stdout",
     "output_type": "stream",
     "text": [
      "154425679\n",
      "154425679\n"
     ]
    }
   ],
   "source": [
    "# lý thuyết đồng dư\n",
    "\n",
    "# (A + B ) % C = ((A % C) + (B + C)) % C\n",
    "# (A - B ) % C = ((A % C) - (B + C) + C) % C\n",
    "# (A * B ) % C = ((A % C) * (B + C)) % C\n",
    "# (A / B ) % C = ((A % C) + (B^-1 % C)) % C\n",
    "# khi bài toán yêu cầu choa dư kết quả cho 1 số nào đó => tính đến đâu chia đến đó\n",
    "# Tính N! chia du cho 10^9 + 7\n",
    "import math\n",
    "\n",
    "\n",
    "if __name__ == \"__main__\":\n",
    "    n = int(input())\n",
    "    # print(math.factorial(n))\n",
    "    print(math.factorial(n) % (10**9 + 7))\n",
    "    res = 1\n",
    "    for i in range(1,n+1):\n",
    "        res *=i\n",
    "        res %= (10 ** 9 + 7)\n",
    "    print(res % (10 ** 9 + 7))"
   ]
  },
  {
   "cell_type": "code",
   "execution_count": 8,
   "metadata": {},
   "outputs": [
    {
     "name": "stdout",
     "output_type": "stream",
     "text": [
      "25\n",
      "25\n"
     ]
    }
   ],
   "source": [
    "# tính a^ b chia dư cho c\n",
    "a,b,c = map(int,input().split())\n",
    "print((a ** b )% c )\n",
    "res = 1\n",
    "for i in range(b):\n",
    "    res *= a\n",
    "    res %= c\n",
    "print(res)"
   ]
  },
  {
   "cell_type": "code",
   "execution_count": null,
   "metadata": {},
   "outputs": [],
   "source": []
  }
 ],
 "metadata": {
  "kernelspec": {
   "display_name": "Python 3",
   "language": "python",
   "name": "python3"
  },
  "language_info": {
   "codemirror_mode": {
    "name": "ipython",
    "version": 3
   },
   "file_extension": ".py",
   "mimetype": "text/x-python",
   "name": "python",
   "nbconvert_exporter": "python",
   "pygments_lexer": "ipython3",
   "version": "3.10.9"
  }
 },
 "nbformat": 4,
 "nbformat_minor": 2
}
