{
 "cells": [
  {
   "cell_type": "code",
   "execution_count": 1,
   "metadata": {},
   "outputs": [
    {
     "name": "stdout",
     "output_type": "stream",
     "text": [
      "4\n",
      "15\n"
     ]
    }
   ],
   "source": [
    "# tính tổng ước và đếm ước của 1 số:\n",
    "\n",
    "# cách cơ bản nhưng chậm\n",
    "def dem_uoc(n):\n",
    "    cnt = 0\n",
    "    for i in range(1,n+1):\n",
    "        if n % i == 0:\n",
    "            cnt+=1\n",
    "    return cnt\n",
    "def tong_uoc(n):\n",
    "    tong = 0\n",
    "    for i in range(1,n+1):\n",
    "        if n % i == 0:\n",
    "            tong+=i\n",
    "    return tong\n",
    "if __name__ == \"__main__\":\n",
    "    n = int(input())\n",
    "    print(dem_uoc(n))\n",
    "    print(tong_uoc(n))"
   ]
  },
  {
   "cell_type": "code",
   "execution_count": 11,
   "metadata": {},
   "outputs": [
    {
     "name": "stdout",
     "output_type": "stream",
     "text": [
      "8\n",
      "90\n"
     ]
    }
   ],
   "source": [
    "# cách 2:duyệt tới căn bậc 2 của n là đủ.\n",
    "import math\n",
    "def dem_uoc(n):\n",
    "    cnt = 0\n",
    "    for i in range(1,math.isqrt(n)+1):\n",
    "        if n % i == 0:\n",
    "            cnt+=1\n",
    "            if i != n // i:\n",
    "                cnt+=1\n",
    "    return cnt\n",
    "def tong_uoc(n):\n",
    "    tong = 0\n",
    "    for i in range(1,math.isqrt(n)+1):\n",
    "        if n % i == 0:\n",
    "            tong+=i \n",
    "            if i != n // i:\n",
    "                tong+= n //i\n",
    "    return tong\n",
    "if __name__ == \"__main__\":\n",
    "    n = int(40)\n",
    "    print(dem_uoc(n))\n",
    "    print(tong_uoc(n))"
   ]
  },
  {
   "cell_type": "code",
   "execution_count": null,
   "metadata": {},
   "outputs": [],
   "source": []
  }
 ],
 "metadata": {
  "kernelspec": {
   "display_name": "Python 3",
   "language": "python",
   "name": "python3"
  },
  "language_info": {
   "codemirror_mode": {
    "name": "ipython",
    "version": 3
   },
   "file_extension": ".py",
   "mimetype": "text/x-python",
   "name": "python",
   "nbconvert_exporter": "python",
   "pygments_lexer": "ipython3",
   "version": "3.10.9"
  }
 },
 "nbformat": 4,
 "nbformat_minor": 2
}
