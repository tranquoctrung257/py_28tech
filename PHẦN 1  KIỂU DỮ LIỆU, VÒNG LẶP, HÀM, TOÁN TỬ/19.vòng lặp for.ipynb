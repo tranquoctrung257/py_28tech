{
 "cells": [
  {
   "cell_type": "code",
   "execution_count": null,
   "metadata": {},
   "outputs": [],
   "source": [
    "## 1. vòng lặp for và hàm range():\n",
    "# a) vòn lặp for\n",
    "# trong ngôn ngữ lập trình python có chút khác so với các ngôn ngữ lập trình như c/c++,java,...\n",
    "# thay vì duyệt qua các giá trị số thì trong python sẽ lặp trên các iterable (list,string,tuple,set...). thứ tựu duyệt sẽ theo thứ tự xuất hiện trong iterable. để thực hiện vòng lặp for ta sử dụng built-in function là range()"
   ]
  },
  {
   "cell_type": "code",
   "execution_count": 1,
   "metadata": {},
   "outputs": [],
   "source": [
    "# b) hàm rangre():\n",
    "# Hàm range() sẽ sinh ra một dãy số và bạn sẽ sử dụng vòng for để duyệt qua từng số trong dãy đã sinh ra\n",
    "# cú pháp range(start,stop,step):\n",
    "# các tham số: start: giá trị bắt đầu của dãy số (mặc định là 0 )\n",
    "#            : stop: giá trị cuối cùng của dãy số (cận này không được lấy)\n",
    "#            : step: bước nhảy của dãy số (mặc định là 1)\n"
   ]
  },
  {
   "cell_type": "code",
   "execution_count": 3,
   "metadata": {},
   "outputs": [
    {
     "name": "stdout",
     "output_type": "stream",
     "text": [
      "1 2 3 4 5 6 7 8 9 "
     ]
    }
   ],
   "source": [
    "\n",
    "# ví dụ\n",
    "a = range(1,10,1)\n",
    "for i in a:\n",
    "    print(i,end=\" \")"
   ]
  },
  {
   "cell_type": "code",
   "execution_count": 4,
   "metadata": {},
   "outputs": [
    {
     "name": "stdout",
     "output_type": "stream",
     "text": [
      "55\n"
     ]
    }
   ],
   "source": [
    "# ví dụ S(n) = 1 + 2 + 3 + ... + n\n",
    "n = 10\n",
    "s = 0\n",
    "for i in range(1,n+1):\n",
    "    s+=i\n",
    "print(s)"
   ]
  },
  {
   "cell_type": "code",
   "execution_count": 1,
   "metadata": {},
   "outputs": [
    {
     "name": "stdout",
     "output_type": "stream",
     "text": [
      "3628800\n"
     ]
    }
   ],
   "source": [
    "# ví dụ tìm giai thừa 10!\n",
    "# tổng khởi tạo tích bằng 0, tích 1\n",
    "n = 10\n",
    "s = 1\n",
    "for i in range(1,n+1):\n",
    "    s*=i\n",
    "print(s)"
   ]
  },
  {
   "cell_type": "code",
   "execution_count": 2,
   "metadata": {},
   "outputs": [
    {
     "name": "stdout",
     "output_type": "stream",
     "text": [
      "3628800\n"
     ]
    }
   ],
   "source": []
  },
  {
   "cell_type": "code",
   "execution_count": 5,
   "metadata": {},
   "outputs": [
    {
     "name": "stdout",
     "output_type": "stream",
     "text": [
      "1\n",
      "101\n",
      "2\n",
      "102\n",
      "3\n",
      "103\n",
      "4\n",
      "104\n",
      "5\n",
      "105\n",
      "6\n",
      "106\n"
     ]
    }
   ],
   "source": [
    "# i ở trong câu lệnh lặp bên dưới không có ý nghĩa gì\n",
    "for i in range(1,7):\n",
    "    print(i)\n",
    "    i += 100\n",
    "    print(i)"
   ]
  },
  {
   "cell_type": "code",
   "execution_count": 6,
   "metadata": {},
   "outputs": [
    {
     "name": "stdout",
     "output_type": "stream",
     "text": [
      "1\n",
      "2\n",
      "3\n",
      "4\n",
      "5\n",
      "6\n",
      "vòng lặp đã kết thúc\n"
     ]
    }
   ],
   "source": [
    "for i in range(1,7):\n",
    "    print(i)\n",
    "else:\n",
    "    print(\"vòng lặp đã kết thúc\")"
   ]
  },
  {
   "cell_type": "code",
   "execution_count": 1,
   "metadata": {},
   "outputs": [],
   "source": [
    "# 2. câu lệnh break và continue:\n",
    "# a) câu lệnh break:\n",
    "# câu lệnh break được sử dụng để kết thúc vòng lặp ngay lập tức, vòng lặp for sẽ kết thúc tại thời điểm câu lệnh break và tiếp tục các câu lệnh bên dưới vòng for. thông thường thì câu lệnh break sẽ dược đi kèm theo một điều kiện để kích hoạt."
   ]
  },
  {
   "cell_type": "code",
   "execution_count": 2,
   "metadata": {},
   "outputs": [
    {
     "name": "stdout",
     "output_type": "stream",
     "text": [
      "1 câu lệnh bên dưới break\n",
      "2 câu lệnh bên dưới break\n",
      "3 câu lệnh bên dưới break\n",
      "4 câu lệnh bên dưới break\n",
      "5 câu lệnh bên dưới break\n",
      "6 câu lệnh bên dưới break\n",
      "7 "
     ]
    }
   ],
   "source": [
    "# in ra các số từ 1 đến 20 nhưng gặ số chia hết cho 7 thì dừng\n",
    "for i in range(1,21):\n",
    "    print(i,end=\" \")\n",
    "    if i % 7 == 0:\n",
    "        break\n",
    "    print(\"câu lệnh bên dưới break\")"
   ]
  },
  {
   "cell_type": "code",
   "execution_count": 1,
   "metadata": {},
   "outputs": [],
   "source": [
    "# b) câu lệnh continue\n",
    "# câu lệnh continue được dùng để bỏ qua lần lặp hiện tại và quay trở lại luôn vòng lặp tiếp theo. câu lệnh bên dưới continue ở trong vòng lặp sẽ được bỏ qua.\n"
   ]
  },
  {
   "cell_type": "code",
   "execution_count": 1,
   "metadata": {},
   "outputs": [
    {
     "name": "stdout",
     "output_type": "stream",
     "text": [
      "28 tech\n",
      "28 tech\n",
      "28 tech\n",
      "28 tech\n",
      "28 tech\n"
     ]
    }
   ],
   "source": [
    "# ví dụ\n",
    "for i in range(5):\n",
    "    print(\"28 tech\")\n",
    "    continue\n",
    "    print(\"python\")\n"
   ]
  },
  {
   "cell_type": "code",
   "execution_count": 2,
   "metadata": {},
   "outputs": [],
   "source": [
    "# c) vòng for lồng nhau\n",
    "# vòng for lồng nhau (nested loop) xuất hiện khi bên trong vòng for này lại là một vòng for khác. để hiểu được các hoạt động của vòng for các bạn chỉ cần nhớ rằng mỗi lần lặp của vòng for bên ngoài thì toàn bộ vòng for con bên trong sẽ được thực hiện\n"
   ]
  },
  {
   "cell_type": "code",
   "execution_count": 4,
   "metadata": {},
   "outputs": [
    {
     "name": "stdout",
     "output_type": "stream",
     "text": [
      "0 0\n",
      "0 1\n",
      "1 0\n",
      "1 1\n",
      "2 0\n",
      "2 1\n"
     ]
    }
   ],
   "source": [
    "# ví dụ\n",
    "for i in range(3):\n",
    "    for j in range(2):\n",
    "        print(i,j)"
   ]
  },
  {
   "cell_type": "code",
   "execution_count": 7,
   "metadata": {},
   "outputs": [
    {
     "name": "stdout",
     "output_type": "stream",
     "text": [
      "1 2 4 5 10 20 25 50 100 "
     ]
    }
   ],
   "source": [
    "# ví dụ ước của 100\n",
    "n = 100\n",
    "for i in range(1,101):\n",
    "    if n % i == 0:\n",
    "        print(i,end=\" \")"
   ]
  },
  {
   "cell_type": "code",
   "execution_count": 8,
   "metadata": {},
   "outputs": [
    {
     "name": "stdout",
     "output_type": "stream",
     "text": [
      "[1, 4, 7]\n"
     ]
    }
   ],
   "source": [
    "print(list(range(1,10,3)))"
   ]
  },
  {
   "cell_type": "code",
   "execution_count": null,
   "metadata": {},
   "outputs": [],
   "source": []
  }
 ],
 "metadata": {
  "kernelspec": {
   "display_name": "Python 3",
   "language": "python",
   "name": "python3"
  },
  "language_info": {
   "codemirror_mode": {
    "name": "ipython",
    "version": 3
   },
   "file_extension": ".py",
   "mimetype": "text/x-python",
   "name": "python",
   "nbconvert_exporter": "python",
   "pygments_lexer": "ipython3",
   "version": "3.10.9"
  }
 },
 "nbformat": 4,
 "nbformat_minor": 2
}
