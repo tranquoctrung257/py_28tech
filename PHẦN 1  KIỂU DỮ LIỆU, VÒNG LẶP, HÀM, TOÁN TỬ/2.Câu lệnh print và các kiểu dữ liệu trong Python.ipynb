{
 "cells": [
  {
   "cell_type": "code",
   "execution_count": 1,
   "metadata": {},
   "outputs": [],
   "source": [
    "# 1.câu lệnh print\n",
    "\n",
    "# cú pháp\n",
    "# print(object,sep=seperator, end = end)\n",
    "\n",
    "# các tham số của hàm print()\n",
    "# object: các đối tượng trong python\n",
    "# sep: phân cách các đối tượng khi in, nếu không truyền tham số này thì mặc định sẽ là dấu cách\n",
    "# end: chỉ ra kí tự được in ở cuối dòng, nếu không có tham số này thì mặc định sẽ là dấu xuống hàng"
   ]
  },
  {
   "cell_type": "code",
   "execution_count": 2,
   "metadata": {},
   "outputs": [
    {
     "name": "stdout",
     "output_type": "stream",
     "text": [
      "Hello Word!\n"
     ]
    }
   ],
   "source": [
    "print(\"Hello Word!\")"
   ]
  },
  {
   "cell_type": "code",
   "execution_count": 3,
   "metadata": {},
   "outputs": [
    {
     "name": "stdout",
     "output_type": "stream",
     "text": [
      "100 200 300\n",
      "28tech python\n"
     ]
    }
   ],
   "source": [
    "a = 100\n",
    "b = 200\n",
    "c = 300\n",
    "print(a,b,c)\n",
    "print(\"28tech python\")"
   ]
  },
  {
   "cell_type": "code",
   "execution_count": 5,
   "metadata": {},
   "outputs": [
    {
     "name": "stdout",
     "output_type": "stream",
     "text": [
      "python ^^^^ java ^^^^ c++ ^^^^ php\n"
     ]
    }
   ],
   "source": [
    "# sep # chỉ có tác dụng trong 1 hàng print()\n",
    "print(\"python\",\"java\",\"c++\",\"php\",sep=\" ^^^^ \")"
   ]
  },
  {
   "cell_type": "code",
   "execution_count": 6,
   "metadata": {},
   "outputs": [
    {
     "name": "stdout",
     "output_type": "stream",
     "text": [
      "python java c++ php!28tech\n"
     ]
    }
   ],
   "source": [
    "# end # chỉ tác dụng với hàng print() sau nó còn lại không có tác dụng với hàng trước nó\n",
    "print(\"python\",\"java\",\"c++\",\"php\",end=\"!\")\n",
    "print(\"28tech\")"
   ]
  },
  {
   "cell_type": "code",
   "execution_count": 7,
   "metadata": {},
   "outputs": [
    {
     "name": "stdout",
     "output_type": "stream",
     "text": [
      "python java c++ php!\n",
      "28tech\n"
     ]
    }
   ],
   "source": [
    "# \\n kí tự mặc định xuống dòng\n",
    "print(\"python\",\"java\",\"c++\",\"php\",end=\"!\\n\")\n",
    "print(\"28tech\")"
   ]
  },
  {
   "cell_type": "code",
   "execution_count": null,
   "metadata": {},
   "outputs": [],
   "source": []
  }
 ],
 "metadata": {
  "kernelspec": {
   "display_name": "Python 3",
   "language": "python",
   "name": "python3"
  },
  "language_info": {
   "codemirror_mode": {
    "name": "ipython",
    "version": 3
   },
   "file_extension": ".py",
   "mimetype": "text/x-python",
   "name": "python",
   "nbconvert_exporter": "python",
   "pygments_lexer": "ipython3",
   "version": "3.10.9"
  }
 },
 "nbformat": 4,
 "nbformat_minor": 2
}
