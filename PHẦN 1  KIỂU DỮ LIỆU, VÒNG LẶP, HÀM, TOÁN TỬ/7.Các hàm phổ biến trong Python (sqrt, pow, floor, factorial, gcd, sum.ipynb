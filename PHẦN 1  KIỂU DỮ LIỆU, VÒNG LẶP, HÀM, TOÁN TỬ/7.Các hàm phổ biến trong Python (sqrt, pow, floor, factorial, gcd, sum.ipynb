{
 "cells": [
  {
   "cell_type": "code",
   "execution_count": 8,
   "metadata": {},
   "outputs": [
    {
     "name": "stdout",
     "output_type": "stream",
     "text": [
      "6.0\n"
     ]
    }
   ],
   "source": [
    "# import math\n",
    "# hoặc\n",
    "from math import *\n",
    "# print(help(math))"
   ]
  },
  {
   "cell_type": "code",
   "execution_count": 28,
   "metadata": {},
   "outputs": [
    {
     "name": "stdout",
     "output_type": "stream",
     "text": [
      "6.0\n",
      "_______________________________\n",
      "6\n",
      "_______________________________\n",
      "1024.0\n",
      "_______________________________\n",
      "2\n",
      "2\n",
      "_______________________________\n",
      "4\n",
      "4\n",
      "_______________________________\n",
      "3628800\n",
      "_______________________________\n",
      "2\n",
      "_______________________________\n",
      "4234.0\n",
      "423423\n",
      "423\n",
      "2\n"
     ]
    }
   ],
   "source": [
    "from math import *\n",
    "# nếu sử dụng from math import * thì không cần gõ math.\n",
    "# sqrt : rquare root : hàm căn bậc 2 : luôn trả về số thực float\n",
    "print(sqrt(36))\n",
    "print(\"_\"*31)\n",
    "\n",
    "# isqrt : integer square root : hàm căn bậc 2: luôn trả về số nguyên int\n",
    "print(isqrt(36))\n",
    "print(\"_\"*31)\n",
    "\n",
    "# pow : power : hàm lũy thừa : trả về số thực float\n",
    "# pow(số,ngũ)\n",
    "print(pow(2,10))\n",
    "print(\"_\"*31)\n",
    "\n",
    "# ceil : ceiling : hàm làm tròn lên\n",
    "print(ceil(1.5))\n",
    "print(ceil(1.1))\n",
    "print(\"_\"*31)\n",
    "\n",
    "# floor : làm tròn xuống \n",
    "print(floor(4.99))\n",
    "print(floor(4.34))\n",
    "print(\"_\"*31)\n",
    "\n",
    "# factorial:giai thừa \n",
    "# ví dụ 10!\n",
    "print(factorial(10)) \n",
    "print(\"_\"*31)\n",
    "\n",
    "# gcd(a,b) : greatest common divisor : ước chung lớn nhất của 2 số\n",
    "print(gcd(42,100))\n",
    "print(\"_\"*31)\n",
    "\n",
    "# comb(k,n) hàm tính tổ hợp chập k của n\n",
    "# perm()\n",
    "\n",
    "# fabs() hàm trị tuyệt đối : trả về số thực\n",
    "print(fabs(-4234))\n",
    "\n"
   ]
  },
  {
   "cell_type": "code",
   "execution_count": 32,
   "metadata": {},
   "outputs": [
    {
     "name": "stdout",
     "output_type": "stream",
     "text": [
      "423423\n",
      "423\n",
      "2\n",
      "233\n",
      "783\n"
     ]
    }
   ],
   "source": [
    "# hoặc có thể dùng hàm ngoài hàm math không cần import math\n",
    "# build-in-function\n",
    "print(abs(-423423))\n",
    "\n",
    "# làm tròn\n",
    "print(round(423.423))\n",
    "\n",
    "# hàm min : trả về số nhỏ nhất\n",
    "print(min(4,6,7,8,2))\n",
    "\n",
    "# hàm max : trả về số bé nhất\n",
    "print(max(4,4,6,7,233,67,2))\n",
    "\n",
    "# hàm sum : trả về tổng\n",
    "print(sum([4,534,234,2,5,4]))"
   ]
  },
  {
   "cell_type": "code",
   "execution_count": null,
   "metadata": {},
   "outputs": [],
   "source": []
  }
 ],
 "metadata": {
  "kernelspec": {
   "display_name": "Python 3",
   "language": "python",
   "name": "python3"
  },
  "language_info": {
   "codemirror_mode": {
    "name": "ipython",
    "version": 3
   },
   "file_extension": ".py",
   "mimetype": "text/x-python",
   "name": "python",
   "nbconvert_exporter": "python",
   "pygments_lexer": "ipython3",
   "version": "3.10.9"
  }
 },
 "nbformat": 4,
 "nbformat_minor": 2
}
