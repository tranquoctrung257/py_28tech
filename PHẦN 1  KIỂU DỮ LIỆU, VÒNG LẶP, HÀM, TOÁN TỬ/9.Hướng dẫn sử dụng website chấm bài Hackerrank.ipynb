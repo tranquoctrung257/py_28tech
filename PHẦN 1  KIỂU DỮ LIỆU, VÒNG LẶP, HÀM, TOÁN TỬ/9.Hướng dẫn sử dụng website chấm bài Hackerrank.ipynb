{
 "cells": [
  {
   "cell_type": "code",
   "execution_count": null,
   "metadata": {},
   "outputs": [],
   "source": [
    "# tạo tài khoản \n",
    "# constranints: từ, đến trong khoảng\n",
    "\n",
    "# vnoi code\n",
    "# ntucoder\n",
    "\n",
    "# wrong answer: kết quả của bạn bị sai\n",
    "# terminated due to timeout: chạy quá thời gian\n",
    "# compilation error: biên dịch code bị lỗi\n",
    "\n",
    "# accepted: đúng"
   ]
  }
 ],
 "metadata": {
  "language_info": {
   "name": "python"
  }
 },
 "nbformat": 4,
 "nbformat_minor": 2
}
