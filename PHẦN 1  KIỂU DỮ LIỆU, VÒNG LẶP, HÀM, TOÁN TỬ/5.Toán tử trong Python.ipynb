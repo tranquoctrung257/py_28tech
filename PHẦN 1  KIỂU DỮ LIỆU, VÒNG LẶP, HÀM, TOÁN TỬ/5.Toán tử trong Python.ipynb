{
 "cells": [
  {
   "cell_type": "code",
   "execution_count": 1,
   "metadata": {},
   "outputs": [],
   "source": [
    "# 4.toán tử:\n",
    "# a) toán tử gán\n",
    "\n",
    "# cú pháp \n",
    "# a = b\n",
    "# Ý nghĩa: gán giá trị của b cho a"
   ]
  },
  {
   "cell_type": "code",
   "execution_count": 4,
   "metadata": {},
   "outputs": [
    {
     "name": "stdout",
     "output_type": "stream",
     "text": [
      "100\n",
      "200\n",
      "300\n",
      "100\n",
      "3423\n"
     ]
    }
   ],
   "source": [
    "# gán giá trị cho nhiều biến trong cùng 1 lệnh\n",
    "a,b,c = 100,200,300\n",
    "print(a)\n",
    "print(b)\n",
    "print(c)\n",
    "a,s = 100,\"3423\"\n",
    "print(a)\n",
    "print(s) "
   ]
  },
  {
   "cell_type": "code",
   "execution_count": 5,
   "metadata": {},
   "outputs": [
    {
     "name": "stdout",
     "output_type": "stream",
     "text": [
      "200 100\n"
     ]
    }
   ],
   "source": [
    "# hoán vị giá trị của 2 biến trong python\n",
    "a = 100\n",
    "b = 200\n",
    "a,b = b,a\n",
    "print(a,b)"
   ]
  },
  {
   "cell_type": "code",
   "execution_count": 1,
   "metadata": {},
   "outputs": [],
   "source": [
    "# b) toán tử toán học:\n",
    "\"\"\"\n",
    "toán tử  |  ý nghĩa      |   ví dụ     | kết quả |\n",
    "  +      |   cộng        |  a=100+200  |  300    |\n",
    "  -      |   trừ         | a = 200-100 |  100    |\n",
    "  *      |    nhân       |  a = 200*100| 20000   |\n",
    "  /      | chia thập phân|  a = 100/200|   0.5   |\n",
    " //      |chia nguyên    | a = 300//200|   1     |   \n",
    "  %      | chia dư       | a = 15%2    |   1     |\n",
    " **      | lũi thừa      | a= 2**10    | 1024    |\n",
    " \"\"\""
   ]
  },
  {
   "cell_type": "code",
   "execution_count": 2,
   "metadata": {},
   "outputs": [
    {
     "name": "stdout",
     "output_type": "stream",
     "text": [
      "tổng 39\n"
     ]
    }
   ],
   "source": [
    "a = 34+5\n",
    "print(\"tổng\",a)\n",
    "# ..."
   ]
  },
  {
   "cell_type": "code",
   "execution_count": 4,
   "metadata": {},
   "outputs": [
    {
     "data": {
      "text/plain": [
       "'\\ntoán tử |      ý nghĩa    |  ví dụ   | kết quả |\\n  ==    |   so sánh bằng  |  100=100 |  True   |\\n  >     |      lớn hơn    |  100>300 |  False  |\\n  >=    |lớn hơn hoặc bằng|  300>=100|  True   |\\n  <     |      bé hơn     |  100<300 |  True   |\\n  <=    |bé hơn hoặc bằng |  300<=100|  False  |\\n  !=    |       khác      |   50!=30 |  True   |\\n'"
      ]
     },
     "execution_count": 4,
     "metadata": {},
     "output_type": "execute_result"
    }
   ],
   "source": [
    "# c) toán tử so sánh:\n",
    "# khi sử dụng toán tử so sánh thì kết quả của phép so sánh sẽ trả về True hoặc False\n",
    "\"\"\"\n",
    "toán tử |      ý nghĩa    |  ví dụ   | kết quả |\n",
    "  ==    |   so sánh bằng  |  100=100 |  True   |\n",
    "  >     |      lớn hơn    |  100>300 |  False  |\n",
    "  >=    |lớn hơn hoặc bằng|  300>=100|  True   |\n",
    "  <     |      bé hơn     |  100<300 |  True   |\n",
    "  <=    |bé hơn hoặc bằng |  300<=100|  False  |\n",
    "  !=    |       khác      |   50!=30 |  True   |\n",
    "\"\"\""
   ]
  },
  {
   "cell_type": "code",
   "execution_count": 5,
   "metadata": {},
   "outputs": [
    {
     "name": "stdout",
     "output_type": "stream",
     "text": [
      "True\n",
      "False\n"
     ]
    }
   ],
   "source": [
    "print(100<=200)\n",
    "print(100!=100)"
   ]
  },
  {
   "cell_type": "code",
   "execution_count": 1,
   "metadata": {},
   "outputs": [
    {
     "data": {
      "text/plain": [
       "'\\nA|B|A and B\\n0|0| False\\n0|1| False\\n1|0| False\\n1|1| True\\n-----------\\nA|B|A or B\\n0|0| False\\n0|1| True\\n1|0| True\\n1|1| True\\n'"
      ]
     },
     "execution_count": 1,
     "metadata": {},
     "output_type": "execute_result"
    }
   ],
   "source": [
    "# d) toán tử logic:\n",
    "# bạn có thể sử dụng các toán tử end or not để kết hợp nhiều biểu thức so sánh\n",
    "\"\"\"\n",
    "toán tử |  ý nghĩa       |     ví dụ       | kết quả |\n",
    "  and   | toán tử và     |(20==20)and(1<0) |  False  |\n",
    "  or    |toán tử hoặc    |(10>5)or(20==50) |  True   |\n",
    "  not   |toán tử phủ định| not(20==20)     |  False  |\n",
    "\"\"\"\n",
    "\"\"\"\n",
    "A|B|A and B\n",
    "0|0| False\n",
    "0|1| False\n",
    "1|0| False\n",
    "1|1| True\n",
    "-----------\n",
    "A|B|A or B\n",
    "0|0| False\n",
    "0|1| True\n",
    "1|0| True\n",
    "1|1| True\n",
    "\"\"\"\n",
    "# chú ý: - đối với cổng and: trả về True nếu nếu mệnh đề thành phần đều là True, False trong các trường hợp còn lại.\n",
    "# - đối với cổng or: trả về True nếu 1 trong 2 mệnh đề thành phần là True, False khi mệnh đề thành phần đều False.\n"
   ]
  },
  {
   "cell_type": "code",
   "execution_count": 3,
   "metadata": {},
   "outputs": [
    {
     "name": "stdout",
     "output_type": "stream",
     "text": [
      "False\n"
     ]
    }
   ],
   "source": [
    "x = 50\n",
    "print((x>60)and(x<100))"
   ]
  },
  {
   "cell_type": "code",
   "execution_count": 4,
   "metadata": {},
   "outputs": [
    {
     "data": {
      "text/plain": [
       "'\\ntoán tử | ý nghĩa\\n   is   | Trả về True nếu 2 đối tượng giống nhau\\n  is not| Trả về True nếu 2 đối tượng giống nhau\\n'"
      ]
     },
     "execution_count": 4,
     "metadata": {},
     "output_type": "execute_result"
    }
   ],
   "source": [
    "# e) toán tử nhận dạng\n",
    "# - toán tử nhận dạng được sử dụng để so sánh 2 đối tượng chứ không phải so sánh giá trị\n",
    "\"\"\"\n",
    "toán tử | ý nghĩa\n",
    "   is   | Trả về True nếu 2 đối tượng giống nhau\n",
    "  is not| Trả về True nếu 2 đối tượng giống nhau\n",
    "\"\"\"\n"
   ]
  },
  {
   "cell_type": "code",
   "execution_count": 5,
   "metadata": {},
   "outputs": [
    {
     "name": "stdout",
     "output_type": "stream",
     "text": [
      "True\n",
      "2056505253360\n",
      "2056505255120\n",
      "False\n"
     ]
    }
   ],
   "source": [
    "# ví dụ\n",
    "a = 1,2,3,4\n",
    "b = 1,2,3,4\n",
    "print(a==b)\n",
    "print(id(a))\n",
    "print(id(b))\n",
    "print(a is b)"
   ]
  },
  {
   "cell_type": "code",
   "execution_count": 8,
   "metadata": {},
   "outputs": [
    {
     "data": {
      "text/plain": [
       "'\\ntoán tử | ý nghĩa                                          | ví dụ              |kết quả\\n    in  |trả về True nếu đối tượng kiểm tra tồn tại        |\"a\" in \"abcd\"       | True\\n  not in|trả về True nếu đối tượng kiểm tra không tồn tại  |\"a\" not in \"28tech\" | True\\n\\n'"
      ]
     },
     "execution_count": 8,
     "metadata": {},
     "output_type": "execute_result"
    }
   ],
   "source": [
    "# f) toán tử thành viên:\n",
    "# toán tử thành viên được dùng để kiểm tra sự tồn tọa của một đối tượng trong list,xâu, tuple,...\n",
    "\"\"\"\n",
    "toán tử | ý nghĩa                                          | ví dụ              |kết quả\n",
    "    in  |trả về True nếu đối tượng kiểm tra tồn tại        |\"a\" in \"abcd\"       | True\n",
    "  not in|trả về True nếu đối tượng kiểm tra không tồn tại  |\"a\" not in \"28tech\" | True\n",
    "\n",
    "\"\"\""
   ]
  },
  {
   "cell_type": "code",
   "execution_count": 7,
   "metadata": {},
   "outputs": [
    {
     "name": "stdout",
     "output_type": "stream",
     "text": [
      "True\n",
      "False\n"
     ]
    }
   ],
   "source": [
    "s = \"28tech python\"\n",
    "print(\"28tech\" in s)\n",
    "print(\"29tech\" in s)"
   ]
  },
  {
   "cell_type": "code",
   "execution_count": 9,
   "metadata": {},
   "outputs": [
    {
     "name": "stdout",
     "output_type": "stream",
     "text": [
      "60 200\n"
     ]
    }
   ],
   "source": [
    "a,b = 10,20\n",
    "chuvi = 2 *(a+b)\n",
    "dientich = a*b\n",
    "print(chuvi,dientich)"
   ]
  },
  {
   "cell_type": "code",
   "execution_count": 11,
   "metadata": {},
   "outputs": [
    {
     "name": "stdout",
     "output_type": "stream",
     "text": [
      "chu vi của hình tròn là:  125.60\n",
      "diện tích của hình tròn là:125.60\n"
     ]
    }
   ],
   "source": [
    "R = 20\n",
    "chuvi = 2*3.14*R\n",
    "dientich = 3.14 * R * R\n",
    "print(\"chu vi của hình tròn là: \",'{:.2f}'.format(chuvi))\n",
    "print(\"diện tích của hình tròn là:%.2f\"%(chuvi))\n"
   ]
  },
  {
   "cell_type": "code",
   "execution_count": 12,
   "metadata": {},
   "outputs": [
    {
     "name": "stdout",
     "output_type": "stream",
     "text": [
      "300\n"
     ]
    }
   ],
   "source": [
    "a = 200\n",
    "a = a + 100 # a += 100\n",
    "print(a)\n",
    "a = a + b  # a += b\n",
    "a = a - b  # a -= b\n",
    "a = a * b  # a *= b\n",
    "a = a / b  # a /= b\n",
    "a = a // b  # a //= b\n",
    "a = a % b  # a %= b\n",
    "a = a**b  # a**=b"
   ]
  },
  {
   "cell_type": "code",
   "execution_count": null,
   "metadata": {},
   "outputs": [],
   "source": []
  }
 ],
 "metadata": {
  "kernelspec": {
   "display_name": "Python 3 (ipykernel)",
   "language": "python",
   "name": "python3"
  },
  "language_info": {
   "codemirror_mode": {
    "name": "ipython",
    "version": 3
   },
   "file_extension": ".py",
   "mimetype": "text/x-python",
   "name": "python",
   "nbconvert_exporter": "python",
   "pygments_lexer": "ipython3",
   "version": "3.10.9"
  }
 },
 "nbformat": 4,
 "nbformat_minor": 4
}
