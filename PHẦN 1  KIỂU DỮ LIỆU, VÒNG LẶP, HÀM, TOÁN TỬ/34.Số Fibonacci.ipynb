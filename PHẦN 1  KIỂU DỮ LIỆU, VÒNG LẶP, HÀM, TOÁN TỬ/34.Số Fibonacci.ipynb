{
 "cells": [
  {
   "cell_type": "code",
   "execution_count": 9,
   "metadata": {},
   "outputs": [
    {
     "name": "stdout",
     "output_type": "stream",
     "text": [
      "True\n"
     ]
    }
   ],
   "source": [
    "# số fibonacci: 0,1,1,2,3,5,8,13,21,34,...\n",
    "# số fibonacci: kiểm tra có phải là số fibo, in ra số fibonacci thứ n, hoặc in ra n số fibonacci đầu tiên.\n",
    "\n",
    "import math\n",
    "\n",
    "def fibo(n):\n",
    "    if n == 1:\n",
    "        print(0)\n",
    "    elif n == 2:\n",
    "        print(\"0 1\")\n",
    "    else:\n",
    "        print(0,1)\n",
    "        fn1,fn2 = 1,0\n",
    "        for i in range(2,n):\n",
    "            fn = fn1+fn2\n",
    "            print(fn)\n",
    "            fn2,fn1 = fn1,fn\n",
    "def checkFibo(n):\n",
    "    if n == 0 or n == 1:\n",
    "        return True\n",
    "    fn1,fn2 = 1,0\n",
    "    for i in range(2,93):\n",
    "        fn = fn1+fn2\n",
    "        if n == fn:\n",
    "            return True\n",
    "        fn2,fn1 = fn1,fn\n",
    "    return False\n",
    "print(checkFibo(13))"
   ]
  },
  {
   "cell_type": "code",
   "execution_count": null,
   "metadata": {},
   "outputs": [],
   "source": []
  }
 ],
 "metadata": {
  "kernelspec": {
   "display_name": "Python 3",
   "language": "python",
   "name": "python3"
  },
  "language_info": {
   "codemirror_mode": {
    "name": "ipython",
    "version": 3
   },
   "file_extension": ".py",
   "mimetype": "text/x-python",
   "name": "python",
   "nbconvert_exporter": "python",
   "pygments_lexer": "ipython3",
   "version": "3.10.9"
  }
 },
 "nbformat": 4,
 "nbformat_minor": 2
}
