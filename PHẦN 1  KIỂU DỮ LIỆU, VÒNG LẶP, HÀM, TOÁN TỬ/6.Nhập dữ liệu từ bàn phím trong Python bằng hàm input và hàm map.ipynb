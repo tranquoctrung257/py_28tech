{
 "cells": [
  {
   "cell_type": "code",
   "execution_count": 3,
   "metadata": {},
   "outputs": [],
   "source": [
    "# nhập dữ liệu với hàm input:\n",
    "# cú pháp: input(prompt)\n",
    "# giá trị trả về: input() trả về sâu kí tự ở kiểu str, các bạn cần chú ý ép kiểu sang dữ liệu tương ứng của biến trong đề bài\n"
   ]
  },
  {
   "cell_type": "code",
   "execution_count": 4,
   "metadata": {},
   "outputs": [
    {
     "name": "stdout",
     "output_type": "stream",
     "text": [
      "<class 'str'>\n",
      "3\n"
     ]
    }
   ],
   "source": [
    "# ví dụ\n",
    "n = input(\"nhập số: \")\n",
    "print(type(n))\n",
    "print(n)"
   ]
  },
  {
   "cell_type": "code",
   "execution_count": 5,
   "metadata": {},
   "outputs": [
    {
     "name": "stdout",
     "output_type": "stream",
     "text": [
      "<class 'float'>\n",
      "32.32\n"
     ]
    }
   ],
   "source": [
    "# ép sang kiểu là số nguyên hoặc thực bằng hàm int(),float()\n",
    "a = float(input(\"nhập một số thực: \"))\n",
    "print(type(a))\n",
    "print(a)"
   ]
  },
  {
   "cell_type": "code",
   "execution_count": 6,
   "metadata": {},
   "outputs": [
    {
     "name": "stdout",
     "output_type": "stream",
     "text": [
      "16 15\n"
     ]
    }
   ],
   "source": [
    "a = int(input(\"nhập chiều rộng: \"))\n",
    "b = int(input(\"nhập chiều dài: \"))\n",
    "chuvi = 2 * (a+b)\n",
    "dientich = a * b\n",
    "print(chuvi,dientich)\n"
   ]
  },
  {
   "cell_type": "code",
   "execution_count": 7,
   "metadata": {},
   "outputs": [],
   "source": [
    "# nhập nhiều số \n",
    "# Bước 1: nhập cả dòng bằng hàm input.\n",
    "# Bước 2: nhập hàm split để tách các số trong xâu input ra.\n",
    "# Bước 3: sử dụng hàm map để ép kiểu các xâu được tách ra trong input sang số int hoặc float tùy theo đầu bài."
   ]
  },
  {
   "cell_type": "code",
   "execution_count": 9,
   "metadata": {},
   "outputs": [
    {
     "name": "stdout",
     "output_type": "stream",
     "text": [
      "34 234\n"
     ]
    }
   ],
   "source": [
    "# nhập 2 số trên 1 dòng \n",
    "a,b = map(int,input(\"nhập 2 số: \").split())\n",
    "print(a,b)"
   ]
  },
  {
   "cell_type": "code",
   "execution_count": 10,
   "metadata": {},
   "outputs": [
    {
     "name": "stdout",
     "output_type": "stream",
     "text": [
      "4 5 2 1\n"
     ]
    }
   ],
   "source": [
    "# nhập 4 số trên cùng 1 dòng\n",
    "a,b,c,d = map(int,input(\"nhập 4 số: \").split())\n",
    "print(a,b,c,d)"
   ]
  },
  {
   "cell_type": "code",
   "execution_count": 12,
   "metadata": {},
   "outputs": [
    {
     "name": "stdout",
     "output_type": "stream",
     "text": [
      "3423423234\n"
     ]
    }
   ],
   "source": [
    "# nếu không có hàm map() a sẽ trả về 1 list và 3 giá trị chỉ là chuỗi \n",
    "s = input(\"nhập 3 số: \")\n",
    "a = s.split()\n",
    "x,y,z = a\n",
    "print(x+y+z)"
   ]
  },
  {
   "cell_type": "code",
   "execution_count": null,
   "metadata": {},
   "outputs": [],
   "source": []
  }
 ],
 "metadata": {
  "kernelspec": {
   "display_name": "Python 3",
   "language": "python",
   "name": "python3"
  },
  "language_info": {
   "codemirror_mode": {
    "name": "ipython",
    "version": 3
   },
   "file_extension": ".py",
   "mimetype": "text/x-python",
   "name": "python",
   "nbconvert_exporter": "python",
   "pygments_lexer": "ipython3",
   "version": "3.10.9"
  }
 },
 "nbformat": 4,
 "nbformat_minor": 2
}
