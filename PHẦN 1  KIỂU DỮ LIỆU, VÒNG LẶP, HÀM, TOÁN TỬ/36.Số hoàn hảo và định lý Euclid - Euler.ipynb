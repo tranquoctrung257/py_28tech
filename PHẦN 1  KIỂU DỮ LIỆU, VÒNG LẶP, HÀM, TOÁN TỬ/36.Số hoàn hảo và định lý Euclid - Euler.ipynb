{
 "cells": [
  {
   "cell_type": "code",
   "execution_count": null,
   "metadata": {},
   "outputs": [],
   "source": [
    "import math\n",
    "# số hoàn hảo\n",
    "def perfect(n):\n",
    "    tong = 1\n",
    "    for i in range(2,math.isqrt(n)+1):\n",
    "        if n % i == 0:\n",
    "            tong +=i\n",
    "            if n != n//i:\n",
    "                tong+=n // i\n",
    "    return tong == n\n",
    "\n",
    "if __name__ == \"__main__\":\n",
    "    "
   ]
  }
 ],
 "metadata": {
  "language_info": {
   "name": "python"
  }
 },
 "nbformat": 4,
 "nbformat_minor": 2
}
