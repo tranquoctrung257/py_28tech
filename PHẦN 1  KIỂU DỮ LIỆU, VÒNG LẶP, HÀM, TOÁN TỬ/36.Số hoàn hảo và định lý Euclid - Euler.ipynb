{
 "cells": [
  {
   "cell_type": "code",
   "execution_count": 8,
   "metadata": {},
   "outputs": [
    {
     "name": "stdout",
     "output_type": "stream",
     "text": [
      "số fibonacii thứ: 6\n",
      "số fibonacii thứ: 28\n",
      "số fibonacii thứ: 496\n",
      "số fibonacii thứ: 8128\n",
      "số fibonacii thứ: 33550336\n",
      "số fibonacii thứ: 8589869056\n",
      "số fibonacii thứ: 137438691328\n",
      "số fibonacii thứ: 2305843008139952128\n",
      "True\n"
     ]
    }
   ],
   "source": [
    "import math\n",
    "# số hoàn hảo\n",
    "def perfect(n):\n",
    "    tong = 1\n",
    "    for i in range(2,math.isqrt(n)+1):\n",
    "        if n % i == 0:\n",
    "            tong +=i\n",
    "            if n != n//i:\n",
    "                tong+=n // i\n",
    "    return tong == n\n",
    "def prime(n):\n",
    "    if n < 2:\n",
    "        return False\n",
    "    for i in range(2,math.isqrt(n)+1):\n",
    "        if n % i == 0:\n",
    "            return False\n",
    "    return True\n",
    "\n",
    "# Định lí euclid-euler \n",
    "# nếu p là số nguyên tố và 2^p - 1 cũng là số nguyên tố ==> (2^p - 1 ) * 2^(p-1) ==> số hoàn hảo\n",
    "# 0 <= N <= 9.10^18 = 2**63\n",
    "def perfect2(n):\n",
    "    for p in range(2,35):\n",
    "        if prime(p):\n",
    "            if prime(2**p -1):\n",
    "                print(\"số fibonacii thứ:\",(2 ** p - 1) * (2 ** (p - 1)))\n",
    "                if (2 ** p - 1) * (2 ** (p - 1)) == n:\n",
    "                    return True\n",
    "    return False\n",
    "if __name__ == \"__main__\":\n",
    "    print(perfect2(2305843008139952128))\n",
    "\n",
    "\n",
    "\n",
    "\n"
   ]
  },
  {
   "cell_type": "code",
   "execution_count": null,
   "metadata": {},
   "outputs": [],
   "source": []
  }
 ],
 "metadata": {
  "kernelspec": {
   "display_name": "Python 3",
   "language": "python",
   "name": "python3"
  },
  "language_info": {
   "codemirror_mode": {
    "name": "ipython",
    "version": 3
   },
   "file_extension": ".py",
   "mimetype": "text/x-python",
   "name": "python",
   "nbconvert_exporter": "python",
   "pygments_lexer": "ipython3",
   "version": "3.10.9"
  }
 },
 "nbformat": 4,
 "nbformat_minor": 2
}
