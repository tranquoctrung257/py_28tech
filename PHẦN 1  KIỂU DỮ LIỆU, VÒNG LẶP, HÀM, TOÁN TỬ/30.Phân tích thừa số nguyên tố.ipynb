{
 "cells": [
  {
   "cell_type": "code",
   "execution_count": 1,
   "metadata": {},
   "outputs": [],
   "source": [
    "# phân tích thừa số nguyên tố, duy nhất.\n",
    "# 30 = 2 X 3 X 5\n",
    "# 60 = 2 X 3 X 3 X 5"
   ]
  },
  {
   "cell_type": "code",
   "execution_count": 7,
   "metadata": {},
   "outputs": [
    {
     "name": "stdout",
     "output_type": "stream",
     "text": [
      "17\n"
     ]
    }
   ],
   "source": [
    "import math\n",
    "\n",
    "def pt(n):\n",
    "    for i in range(2,math.isqrt(n)+1):\n",
    "        if n % i == 0:\n",
    "            # i: là thừa số nguyên tố \n",
    "            while n % i == 0:\n",
    "                print(i,end=\" \")\n",
    "                n //=i\n",
    "    if n > 1:\n",
    "        print(n)\n",
    "if __name__ == \"__main__\":\n",
    "    n = 17\n",
    "    pt(n)"
   ]
  },
  {
   "cell_type": "code",
   "execution_count": null,
   "metadata": {},
   "outputs": [],
   "source": []
  }
 ],
 "metadata": {
  "kernelspec": {
   "display_name": "Python 3",
   "language": "python",
   "name": "python3"
  },
  "language_info": {
   "codemirror_mode": {
    "name": "ipython",
    "version": 3
   },
   "file_extension": ".py",
   "mimetype": "text/x-python",
   "name": "python",
   "nbconvert_exporter": "python",
   "pygments_lexer": "ipython3",
   "version": "3.10.9"
  }
 },
 "nbformat": 4,
 "nbformat_minor": 2
}
