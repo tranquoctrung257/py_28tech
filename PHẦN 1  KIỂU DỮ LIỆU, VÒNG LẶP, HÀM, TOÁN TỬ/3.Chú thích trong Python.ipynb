{
 "cells": [
  {
   "cell_type": "code",
   "execution_count": 1,
   "metadata": {},
   "outputs": [],
   "source": [
    "# 2. python syntax và chú thích\n",
    "\n",
    "# các lệnh có trong ngôn ngữ lập trình python không có kết thúc bằng dấu chấm phẩy, trong các ngôn ngữ lập trình khác thì thụt lề khi code giúp cho dễ dàng đọc thì trong python thụt lề có nhiệm vụ rất quan trọng.\n",
    "# python sử dụng thụt lề để chỉ ra khối lệnh mới\n"
   ]
  },
  {
   "cell_type": "code",
   "execution_count": 5,
   "metadata": {},
   "outputs": [
    {
     "name": "stdout",
     "output_type": "stream",
     "text": [
      "Hello Word!\n"
     ]
    }
   ],
   "source": [
    "# vd đây là chú thích\n",
    "print(\"Hello Word!\")\n",
    "# đây là chú thích"
   ]
  },
  {
   "cell_type": "code",
   "execution_count": 4,
   "metadata": {},
   "outputs": [
    {
     "data": {
      "text/plain": [
       "'\\nví dụ:\\nđây là chú thích \\ntrên nhiều dòng\\n'"
      ]
     },
     "execution_count": 4,
     "metadata": {},
     "output_type": "execute_result"
    }
   ],
   "source": [
    "'''\n",
    "ví dụ:\n",
    "đây là chú thích \n",
    "trên nhiều dòng\n",
    "bằng dấu nháy kép\n",
    "'''"
   ]
  },
  {
   "cell_type": "code",
   "execution_count": null,
   "metadata": {},
   "outputs": [],
   "source": [
    "\"\"\"\n",
    "ví dụ:\n",
    "đây là chú thích \n",
    "trên nhiều dòng\n",
    "bằng dấu nháy đơn\n",
    "\"\"\""
   ]
  }
 ],
 "metadata": {
  "kernelspec": {
   "display_name": "Python 3",
   "language": "python",
   "name": "python3"
  },
  "language_info": {
   "codemirror_mode": {
    "name": "ipython",
    "version": 3
   },
   "file_extension": ".py",
   "mimetype": "text/x-python",
   "name": "python",
   "nbconvert_exporter": "python",
   "pygments_lexer": "ipython3",
   "version": "3.10.9"
  }
 },
 "nbformat": 4,
 "nbformat_minor": 2
}
